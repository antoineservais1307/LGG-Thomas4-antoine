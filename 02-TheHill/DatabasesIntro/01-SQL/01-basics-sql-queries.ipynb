{
 "cells": [
  {
   "cell_type": "markdown",
   "metadata": {},
   "source": [
    "# SQL: Basic queries on relational databases\n",
    "\n",
    "## Relational databases: Review\n",
    "\n",
    "A **relational database** is a way of structuring information in tables, rows, and columns. You could compare it to an excel file (database) with several sheets (tables) that contain tabular data (rows and columns). The particularity of this database is its ability to create relationships between those tables by joining them.\n",
    "\n",
    "What is a `join`? Let's take an example by looking at the schema of a database of a music producer. You can see here that certain fields are common between several tables.\n",
    "\n",
    "For example: `ArtistID` exists in `artists` and in `albums`. Consequently the information from an artist can be included (_joined_) to the information of his/her albums.\n",
    "\n",
    "<img src=\"https://www.sqlitetutorial.net/wp-content/uploads/2015/11/sqlite-sample-database-color.jpg\" />\n",
    "\n",
    "SQL (Structured Query Language) is one of the most common languages for interacting with a relational database. It allows you to perform efficient and precise queries on the database, including queries among different tables.\n",
    "\n",
    "SQL mainly allows you to `select`, `insert`, `update` or `delete` data from the DB.\n",
    "\n",
    "Before diving in the exercises:\n",
    "\n",
    "- You can learn the basics of SQL language by practicing [this tutorial](https://www.w3schools.com/sql/sql_syntax.asp)\n",
    "- Try to understand the structure of the DB based on its schema. You will get more information about it [here](https://www.sqlitetutorial.net/sqlite-sample-database/)\n",
    "\n",
    "Now, let's do some exercices by using SQLite and the python module `sqlite3`. You don't need to install it, it is included in the Python distribution. Read more: [SQLite3 Documentation](https://docs.python.org/3/library/sqlite3.html).\n",
    "\n",
    "\n"
   ]
  },
  {
   "cell_type": "markdown",
   "metadata": {},
   "source": [
    "### Connetion to the database\n",
    "\n",
    "We need to create a new database and open a database connection to allow `sqlite3` to work with it. Call `sqlite3.connect()` to create a connection to the database in the current working directory, implicitly creating it if it does not exist.\n",
    "\n",
    "In order to execute SQL statements and fetch results from SQL queries, we will need to use a database cursor. Call `con.cursor()` to create the `Cursor`."
   ]
  },
  {
   "cell_type": "code",
   "execution_count": 2,
   "metadata": {},
   "outputs": [],
   "source": [
    "import sqlite3\n",
    "\n",
    "connexion = sqlite3.connect(\"data/chinook.db\")\n",
    "cursor = connexion.cursor()"
   ]
  },
  {
   "cell_type": "markdown",
   "metadata": {},
   "source": [
    "## Basic Queries\n",
    "\n",
    "**1. Show the 10 first entries of the table `artists`**\n",
    "\n",
    "The basic command in SQL is `SELECT` which is used for retrieving elements of certain columns `FROM` a table. `SELECT` indicates the columns to retrieve. By using `*` we chose to get keep all the columns. The keyword `LIMIT` is used for retrieving only the first `n` rows from the table.\n",
    "\n",
    "You can use `cursor.execute()` to execute that query and call `cursor.fetchall()` to fetch the resulting rows.\n"
   ]
  },
  {
   "cell_type": "code",
   "execution_count": 3,
   "metadata": {},
   "outputs": [
    {
     "data": {
      "text/plain": [
       "[(1, 'AC/DC'),\n",
       " (2, 'Accept'),\n",
       " (3, 'Aerosmith'),\n",
       " (4, 'Alanis Morissette'),\n",
       " (5, 'Alice In Chains'),\n",
       " (6, 'Antônio Carlos Jobim'),\n",
       " (7, 'Apocalyptica'),\n",
       " (8, 'Audioslave'),\n",
       " (9, 'BackBeat'),\n",
       " (10, 'Billy Cobham')]"
      ]
     },
     "execution_count": 3,
     "metadata": {},
     "output_type": "execute_result"
    }
   ],
   "source": [
    "cursor.execute(\"\"\"\n",
    "    SELECT\n",
    "        *\n",
    "    FROM\n",
    "        artists\n",
    "    LIMIT 10;\n",
    "\"\"\")\n",
    "cursor.fetchall()"
   ]
  },
  {
   "cell_type": "markdown",
   "metadata": {},
   "source": [
    "**2. Find the ID of Aerosmith** \n",
    "\n",
    "Let's introduce here conditions by using the keyword `WHERE`. The goal is to retrieve only the rows that meet a given condition.\n",
    "\n",
    "Here we will retrive here the column `artistId` from the table `artists` for the entries whose the name is `Aerosmith`."
   ]
  },
  {
   "cell_type": "code",
   "execution_count": 4,
   "metadata": {
    "tags": []
   },
   "outputs": [
    {
     "data": {
      "text/plain": [
       "3"
      ]
     },
     "execution_count": 4,
     "metadata": {},
     "output_type": "execute_result"
    }
   ],
   "source": [
    "query1 = f\"\"\"\n",
    "    SELECT\n",
    "        artistId\n",
    "    FROM\n",
    "        artists\n",
    "    WHERE\n",
    "        name = 'Aerosmith';\n",
    "\"\"\"\n",
    "cursor.execute(query1)\n",
    "artist_id = cursor.fetchone()[0]\n",
    "\n",
    "artist_id"
   ]
  },
  {
   "cell_type": "markdown",
   "metadata": {},
   "source": [
    "**3. Find the IDs of the albums of Aerosmith**\n",
    "\n",
    "Now that we have the `artistId` of Aerosmith we can use it in another query. We will retrieve the field `albumId` for the rows from album whose `artistId` is the one of Aerosmith."
   ]
  },
  {
   "cell_type": "code",
   "execution_count": 5,
   "metadata": {
    "tags": []
   },
   "outputs": [
    {
     "name": "stdout",
     "output_type": "stream",
     "text": [
      "['5']\n"
     ]
    }
   ],
   "source": [
    "query2 = f\"\"\"\n",
    "    SELECT\n",
    "        albumId\n",
    "    FROM \n",
    "        albums \n",
    "    WHERE \n",
    "        artistId = '{artist_id}';\n",
    "\"\"\"\n",
    "albums_ids = []\n",
    "for row in cursor.execute(query2):\n",
    "    albums_ids.append(str(row[0]))\n",
    "\n",
    "print(albums_ids)"
   ]
  },
  {
   "cell_type": "markdown",
   "metadata": {},
   "source": [
    "**4. Find the track names of the albums of Aerosmith**\n",
    "\n",
    "Now that we have the ids of all the albums of Aerosmith we can look for the tracks that are in those albums. We will introduce here the `DISTINCT` keyword that will retrieve unique values only.\n"
   ]
  },
  {
   "cell_type": "code",
   "execution_count": 6,
   "metadata": {
    "tags": []
   },
   "outputs": [
    {
     "name": "stdout",
     "output_type": "stream",
     "text": [
      "Walk On Water\n",
      "Love In An Elevator\n",
      "Rag Doll\n",
      "What It Takes\n",
      "Dude (Looks Like A Lady)\n",
      "Janie's Got A Gun\n",
      "Cryin'\n",
      "Amazing\n",
      "Blind Man\n",
      "Deuces Are Wild\n",
      "The Other Side\n",
      "Crazy\n",
      "Eat The Rich\n",
      "Angel\n",
      "Livin' On The Edge\n"
     ]
    }
   ],
   "source": [
    "query3 = f\"\"\"\n",
    "    SELECT\n",
    "        DISTINCT name\n",
    "    FROM\n",
    "        tracks\n",
    "    WHERE \n",
    "        albumId IN ({\",\".join(albums_ids)});\n",
    "\"\"\"\n",
    "\n",
    "for row in cursor.execute(query3):\n",
    "    print(row[0])"
   ]
  },
  {
   "cell_type": "markdown",
   "metadata": {},
   "source": [
    "**5. Put that in a single query!**\n",
    "\n",
    "Let's do everything we have done so far in a single query.\n",
    "\n",
    "Before that it is important to understand the concept of `PRIMARY KEY` and `FOREIGN KEY`:\n",
    "\n",
    "- **Primary Keys** are fields that are **unique** and cannot be null. It uniquely identifies each record in a table (in general this is the `id` of the item). Each table can have zero or one primary key (not more). This key can consist of one or multiple columns. \n",
    "- **Foreign Keys** are fields in one table that refer to the primary key of another table. One table can contain multiple foreign keys.\n",
    "\n",
    "Let's take an example: \n",
    "* In our dataset the table `artists` has `artistId` as primary key. The table `albums` uses `artistId` as a foreign key to refer to the table `artists`. \n",
    "* The idea of joining table is based on that: we will use the `JOIN` keyword in order to put information from different tables together by using common keys. \n",
    "* The keyword `ON` will specify which keys will be used to join the tables."
   ]
  },
  {
   "cell_type": "code",
   "execution_count": 7,
   "metadata": {},
   "outputs": [
    {
     "name": "stdout",
     "output_type": "stream",
     "text": [
      "Walk On Water\n",
      "Love In An Elevator\n",
      "Rag Doll\n",
      "What It Takes\n",
      "Dude (Looks Like A Lady)\n",
      "Janie's Got A Gun\n",
      "Cryin'\n",
      "Amazing\n",
      "Blind Man\n",
      "Deuces Are Wild\n",
      "The Other Side\n",
      "Crazy\n",
      "Eat The Rich\n",
      "Angel\n",
      "Livin' On The Edge\n"
     ]
    }
   ],
   "source": [
    "query4 = f\"\"\"\n",
    "    SELECT\n",
    "        distinct(tracks.name)\n",
    "    FROM\n",
    "        artists\n",
    "        JOIN albums ON artists.artistId = albums.artistId\n",
    "        JOIN tracks ON albums.albumId = tracks.albumId\n",
    "    WHERE \n",
    "        artists.name = 'Aerosmith';\n",
    "\"\"\"\n",
    "\n",
    "songs = set()\n",
    "for row in cursor.execute(query4):\n",
    "    print(row[0])\n",
    "    "
   ]
  },
  {
   "cell_type": "markdown",
   "metadata": {},
   "source": [
    "**6. Get the most productive artists**\n",
    "\n",
    "Let's count the number of albums by artist by using `GROUP BY`. We will select the artists and group all the albums they have released.\n",
    "\n",
    "`COUNT` will count the number of albums and `AS` will give a variable name to the counter (`nb_albums`).\n",
    "\n",
    "`ORDER BY` will rank the results according to the variable `nb_albums`. `DESC` gives the orientation of the rank (in that case: descending)\n",
    "\n",
    "`LIMIT` will show only the first results of the ranking (i.e. the most productive artists)."
   ]
  },
  {
   "cell_type": "code",
   "execution_count": 8,
   "metadata": {},
   "outputs": [
    {
     "data": {
      "text/plain": [
       "[('Iron Maiden', 21),\n",
       " ('Led Zeppelin', 14),\n",
       " ('Deep Purple', 11),\n",
       " ('Metallica', 10),\n",
       " ('U2', 10),\n",
       " ('Ozzy Osbourne', 6),\n",
       " ('Pearl Jam', 5),\n",
       " ('Various Artists', 4),\n",
       " ('Faith No More', 4),\n",
       " ('Foo Fighters', 4)]"
      ]
     },
     "execution_count": 8,
     "metadata": {},
     "output_type": "execute_result"
    }
   ],
   "source": [
    "query5 = \"\"\"\n",
    "\n",
    "    SELECT\n",
    "        artists.Name,\n",
    "        count(*) AS nb_albums\n",
    "    FROM\n",
    "        artists\n",
    "        JOIN albums on albums.ArtistId = artists.ArtistId\n",
    "    GROUP BY\n",
    "        artists.ArtistId\n",
    "    ORDER BY\n",
    "        nb_albums DESC\n",
    "    LIMIT 10;\n",
    "\n",
    "\"\"\"\n",
    "cursor.execute(query5)\n",
    "cursor.fetchall()"
   ]
  },
  {
   "cell_type": "markdown",
   "metadata": {},
   "source": [
    "#### Your turn!\n",
    "\n",
    "Based on your knowledge and some Google search try to create the following queries:\n",
    "\n",
    "- Count the number of tracks for all the albums of AC/DC\n",
    "- List all the artists doing 'Metal' (genre)\n",
    "- List the top 10 of invoiced countries\n",
    "- Calculate the total amount billed to each customer"
   ]
  },
  {
   "cell_type": "code",
   "execution_count": 9,
   "metadata": {},
   "outputs": [
    {
     "name": "stdout",
     "output_type": "stream",
     "text": [
      "18\n"
     ]
    }
   ],
   "source": [
    "# Code\n",
    "query6 = \"\"\"\n",
    "    SELECT\n",
    "        count(*) AS nb_tracks\n",
    "    FROM\n",
    "    artists\n",
    "    JOIN albums ON artists.ArtistId = albums.ArtistId\n",
    "    JOIN tracks ON albums.AlbumId = tracks.AlbumId\n",
    "     \n",
    "    WHERE \n",
    "        artists.Name = 'AC/DC'\n",
    "\"\"\"\n",
    "print(cursor.execute(query6).fetchone()[0])\n"
   ]
  },
  {
   "cell_type": "code",
   "execution_count": 10,
   "metadata": {},
   "outputs": [
    {
     "name": "stdout",
     "output_type": "stream",
     "text": [
      "Apocalyptica\n",
      "None\n",
      "Tony Iommi, Bill Ward, Geezer Butler, Ozzy Osbourne\n",
      "Roy Z\n",
      "Adrian Smith\n",
      "Eddie Casillas/Roy Z\n",
      "Molaney/Morris/Roberts/Wainwright\n",
      "Harris/Tatler\n",
      "Black Sabbath\n",
      "Seger\n",
      "Danzig\n",
      "Cave\n",
      "Diamond/Shermann\n",
      "A.Bouchard/J.Bouchard/S.Pearlman\n",
      "Traditional\n",
      "Collins/Van Zandt\n",
      "Sully Erna\n",
      "Sully Erna; Tony Rombola\n",
      "Duff McKagan/Slash/W. Axl Rose\n",
      "Izzy Stradlin'/W. Axl Rose\n",
      "Billy/Del James/W. Axl Rose/West Arkeen\n",
      "Bob Dylan\n",
      "W. Axl Rose\n",
      "Izzy Stradlin'\n",
      "Slash/W. Axl Rose\n",
      "Duff McKagan\n",
      "Steve Harris\n",
      "Paul Di'Anno/Steve Harris\n",
      "David Murray/Paul Di'Anno/Steve Harris\n",
      "Adrian Smith/Bruce Dickinson\n",
      "Bruce Dickinson/Janick Gers\n",
      "Adrian Smith/Bruce Dickinson/Steve Harris\n",
      "Bruce Dickinson/Steve Harris\n",
      "Bruce Dickinson\n",
      "Smith/Dickinson\n",
      "Harris\n",
      "Dickinson\n",
      "Harris/Di Anno\n",
      "Bruce Dickinson/David Murray\n",
      "David Murray/Steve Harris\n",
      "Dickinson/Smith\n",
      "Bruce Dickinson/Janick Gers/Steve Harris\n",
      "Bruce Dickinson/David Murray/Steve Harris\n",
      "Janick Gers/Steve Harris\n",
      "Adrian Smith; Bruce Dickinson\n",
      "Adrian Smith; Bruce Dickinson; Steve Harris\n",
      "Dave Murray; Steve Harris\n",
      "Bruce Dickinson; Harris\n",
      "Adrian Smith/Steve Harris\n",
      "Adrian Smith/Clive Burr/Steve Harris\n",
      "James Hetfield, Lars Ulrich and Kirk Hammett\n",
      "Ulrich\n",
      "James Hetfield, Lars Ulrich and Jason Newsted\n",
      "Holocaust\n",
      "Killing Joke\n",
      "Bourge/Phillips/Shelley\n",
      "Jones/Sirotto/Smith\n",
      "Deacon/May/Mercury/Taylor\n",
      "Culmer/Exalt\n",
      "Sweet Savage\n",
      "Clarke/Kilmister/Tayler\n",
      "Clarke/Farren/Kilmister/Tayler\n",
      "James Hetfield, Lars Ulrich\n",
      "James Hetfield, Lars Ulrich, Dave Mustaine\n",
      "James Hetfield\n",
      "Cliff Burton\n",
      "James Hetfield, Lars Ulrich, Kirk Hammett\n",
      "J.Hetfield/L.Ulrich\n",
      "K.Hammett\n",
      "C.Burton\n",
      "Hetfield, Ulrich, Hammett\n",
      "Hetfield, Ulrich\n",
      "Hetfield, Ulrich, Newsted\n",
      "Metallica\n",
      "Bob Rock/James Hetfield/Kirk Hammett/Lars Ulrich\n",
      "James Hetfield, Lars Ulrich & Jason Newsted\n",
      "James Hetfield, Lars Ulrich & Kirk Hammett\n",
      "James Hetfield & Lars Ulrich\n",
      "James Hetfield and Lars Ulrich\n",
      "James Hetfield, Lars Ulrich and Cliff Burton\n",
      "Clarke/Kilmister/Taylor\n",
      "Heath/Robinson\n",
      "Dufort/Johnson/McAuliffe/Williams\n",
      "Mick Mars/Nikki Sixx/Tommy Lee/Vince Neil\n",
      "Mick Mars/Nikki Sixx/Tommy Lee\n",
      "Nikki Sixx\n",
      "Nikki Sixx/Tommy Lee/Vince Neil\n",
      "Bryan Adams/Nikki Sixx/Scott Humphrey\n",
      "Mick Mars/Nikki Sixx\n",
      "Cub Coda/Michael Lutz\n",
      "O. Osbourne, R. Daisley, R. Rhoads\n",
      "O. Osbourne, R. Daisley, R. Rhoads, L. Kerslake\n",
      "A. F. Iommi, W. Ward, T. Butler, J. Osbourne\n",
      "R. Rhoads\n",
      "Dolmayan, John/Malakian, Daron/Odadjian, Shavo\n",
      "Tankian, Serj\n",
      "Sykes\n",
      "Marsden\n",
      "Galley\n",
      "Vandenberg\n",
      "Coverdale\n",
      "Moody\n",
      "Marsden/Moody\n"
     ]
    }
   ],
   "source": [
    "query7 = f\"\"\"\n",
    "    SELECT\n",
    "        distinct(tracks.Composer)\n",
    "    FROM\n",
    "        tracks\n",
    "        JOIN albums ON artists.artistId = albums.artistId\n",
    "        JOIN artists ON albums.ArtistId = artists.ArtistId\n",
    "        JOIN genres ON tracks.GenreId = genres.GenreId\n",
    "    WHERE \n",
    "        genres.Name = 'Metal';\n",
    "\"\"\"\n",
    "artists = set()\n",
    "for row in cursor.execute(query7).fetchall():\n",
    "    print(row[0])\n"
   ]
  },
  {
   "cell_type": "code",
   "execution_count": 11,
   "metadata": {},
   "outputs": [
    {
     "data": {
      "text/plain": [
       "[(0, 'InvoiceId', 'INTEGER', 1, None, 1),\n",
       " (1, 'CustomerId', 'INTEGER', 1, None, 0),\n",
       " (2, 'InvoiceDate', 'DATETIME', 1, None, 0),\n",
       " (3, 'BillingAddress', 'NVARCHAR(70)', 0, None, 0),\n",
       " (4, 'BillingCity', 'NVARCHAR(40)', 0, None, 0),\n",
       " (5, 'BillingState', 'NVARCHAR(40)', 0, None, 0),\n",
       " (6, 'BillingCountry', 'NVARCHAR(40)', 0, None, 0),\n",
       " (7, 'BillingPostalCode', 'NVARCHAR(10)', 0, None, 0),\n",
       " (8, 'Total', 'NUMERIC(10,2)', 1, None, 0)]"
      ]
     },
     "execution_count": 11,
     "metadata": {},
     "output_type": "execute_result"
    }
   ],
   "source": [
    "\n",
    "cursor.execute(\"\"\"\n",
    "               PRAGMA table_info(invoices);\n",
    "                \"\"\")\n",
    "cursor.fetchall()"
   ]
  },
  {
   "cell_type": "code",
   "execution_count": 21,
   "metadata": {},
   "outputs": [
    {
     "data": {
      "text/plain": [
       "[('Chile', 6.659999999999999),\n",
       " ('Ireland', 6.517142857142857),\n",
       " ('Hungary', 6.517142857142857),\n",
       " ('Czech Republic', 6.445714285714286),\n",
       " ('Austria', 6.088571428571428),\n",
       " ('Finland', 5.945714285714286),\n",
       " ('Netherlands', 5.8028571428571425),\n",
       " ('India', 5.78923076923077),\n",
       " ('USA', 5.747912087912088),\n",
       " ('Norway', 5.659999999999999)]"
      ]
     },
     "execution_count": 21,
     "metadata": {},
     "output_type": "execute_result"
    }
   ],
   "source": [
    "query8 = \"\"\"\n",
    "    SELECT\n",
    "        invoices.BillingCountry,\n",
    "        AVG(invoices.Total) AS avg_invoice\n",
    "    FROM \n",
    "        invoices\n",
    "    GROUP BY \n",
    "        invoices.BillingCountry\n",
    "    ORDER BY\n",
    "        avg_invoice DESC\n",
    "    LIMIT 10;\n",
    "\"\"\"\n",
    "cursor.execute(query8).fetchall()"
   ]
  },
  {
   "cell_type": "markdown",
   "metadata": {},
   "source": [
    "## Resources\n",
    "\n",
    "- [Top 70 most important queries](https://bytescout.com/blog/20-important-sql-queries.html)\n",
    "- [SQL Murder Mystery](https://mystery.knightlab.com/): Use SQL to find the MURDERER\n",
    "- [TablePlus](https://tableplus.com/): A nice editor for SQL queries\n",
    "- [SQL Fundamentals ](https://app.datacamp.com/learn/skill-tracks/sql-fundamentals)(DataCamp Track, 5 courses)\n",
    "- [SQL for Business Analysts ](https://app.datacamp.com/learn/skill-tracks/sql-for-business-analysts)(DataCamp Track, 5 courses)\n",
    "- [Data Analyst in SQL ](https://app.datacamp.com/learn/career-tracks/data-analyst-in-sql)(DataCamp Track, 12 courses)\n",
    "- [The 80 Top SQL Interview Questions and Answers for Beginners & Intermediate Practitioners](https://www.datacamp.com/blog/top-sql-interview-questions-and-answers-for-beginners-and-intermediate-practitioners)"
   ]
  }
 ],
 "metadata": {
  "kernelspec": {
   "display_name": "Python 3.9.13 64-bit (microsoft store)",
   "language": "python",
   "name": "python3"
  },
  "language_info": {
   "codemirror_mode": {
    "name": "ipython",
    "version": 3
   },
   "file_extension": ".py",
   "mimetype": "text/x-python",
   "name": "python",
   "nbconvert_exporter": "python",
   "pygments_lexer": "ipython3",
   "version": "3.12.3"
  },
  "vscode": {
   "interpreter": {
    "hash": "5af58ead5434bcaec4ba320c097b4ab95f4d47b5cc097d838e053a401accc545"
   }
  }
 },
 "nbformat": 4,
 "nbformat_minor": 4
}
