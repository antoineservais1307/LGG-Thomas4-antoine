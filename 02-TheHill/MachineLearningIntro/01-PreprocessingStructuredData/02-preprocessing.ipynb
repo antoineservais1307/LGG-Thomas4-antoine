{
 "cells": [
  {
   "cell_type": "markdown",
   "metadata": {},
   "source": [
    "# Data preprocessing using pandas and scikit-learn"
   ]
  },
  {
   "cell_type": "markdown",
   "metadata": {},
   "source": [
    "### Feature selection\n",
    "\n",
    "Data preprocessing is most always the step before training a machine learning model. There are features that are not very useful for predicting a given outcome. For example, including an `id` field which uniquely identifies each sample does not make much sense. \n",
    "Thus, such variables can be safely deleted.\n"
   ]
  },
  {
   "cell_type": "code",
   "execution_count": 41,
   "metadata": {},
   "outputs": [],
   "source": [
    "import pandas as pd\n",
    "import numpy as np\n",
    "from matplotlib import pyplot as plt"
   ]
  },
  {
   "cell_type": "code",
   "execution_count": 42,
   "metadata": {},
   "outputs": [
    {
     "data": {
      "text/plain": [
       "Index(['X', 'Y', 'Unique Squirrel ID', 'Hectare', 'Shift', 'Date',\n",
       "       'Hectare Squirrel Number', 'Age', 'Primary Fur Color',\n",
       "       'Highlight Fur Color', 'Combination of Primary and Highlight Color',\n",
       "       'Color notes', 'Location', 'Above Ground Sighter Measurement',\n",
       "       'Specific Location', 'Running', 'Chasing', 'Climbing', 'Eating',\n",
       "       'Foraging', 'Other Activities', 'Kuks', 'Quaas', 'Moans', 'Tail flags',\n",
       "       'Tail twitches', 'Approaches', 'Indifferent', 'Runs from',\n",
       "       'Other Interactions', 'Lat/Long'],\n",
       "      dtype='object')"
      ]
     },
     "execution_count": 42,
     "metadata": {},
     "output_type": "execute_result"
    }
   ],
   "source": [
    "filename = r\"C:\\Users\\antoi\\Desktop\\LGG-Thomas4-antoine\\02-TheHill\\MachineLearningIntro\\squirels.csv\"\n",
    "df = pd.read_csv(filename)\n",
    "df.columns"
   ]
  },
  {
   "cell_type": "markdown",
   "metadata": {},
   "source": [
    "Again, we'll ask you do to a bit of work yourself. This time, we ask you to drop unnecessary columns."
   ]
  },
  {
   "cell_type": "code",
   "execution_count": 43,
   "metadata": {},
   "outputs": [
    {
     "data": {
      "text/plain": [
       "Index(['X', 'Y', 'Hectare', 'Shift', 'Date', 'Hectare Squirrel Number', 'Age',\n",
       "       'Primary Fur Color', 'Highlight Fur Color',\n",
       "       'Combination of Primary and Highlight Color', 'Color notes', 'Location',\n",
       "       'Above Ground Sighter Measurement', 'Specific Location', 'Running',\n",
       "       'Chasing', 'Climbing', 'Eating', 'Foraging', 'Other Activities', 'Kuks',\n",
       "       'Quaas', 'Moans', 'Tail flags', 'Tail twitches', 'Approaches',\n",
       "       'Indifferent', 'Runs from', 'Other Interactions', 'Lat/Long'],\n",
       "      dtype='object')"
      ]
     },
     "execution_count": 43,
     "metadata": {},
     "output_type": "execute_result"
    }
   ],
   "source": [
    "# Drop the \"Unique Squirrel ID\" column\n",
    "del df[\"Unique Squirrel ID\"]\n",
    "df.columns"
   ]
  },
  {
   "cell_type": "markdown",
   "metadata": {},
   "source": [
    "### Feature slicing\n",
    "Feature slicing is the act of *slicing* a feature into multiple different features.\n",
    "For example, we can slice the `Date` into day, month, and year.\n"
   ]
  },
  {
   "cell_type": "code",
   "execution_count": 44,
   "metadata": {},
   "outputs": [
    {
     "data": {
      "text/plain": [
       "0    10142018\n",
       "1    10192018\n",
       "2    10142018\n",
       "3    10172018\n",
       "4    10172018\n",
       "Name: Date, dtype: int64"
      ]
     },
     "execution_count": 44,
     "metadata": {},
     "output_type": "execute_result"
    }
   ],
   "source": [
    "df[\"Date\"].head()"
   ]
  },
  {
   "cell_type": "markdown",
   "metadata": {},
   "source": [
    "Hint: use the `Series.apply()` method with a lambda function. [[Help]](https://www.analyticsvidhya.com/blog/2020/03/what-are-lambda-functions-in-python/)\n"
   ]
  },
  {
   "cell_type": "code",
   "execution_count": 45,
   "metadata": {},
   "outputs": [
    {
     "data": {
      "text/html": [
       "<div>\n",
       "<style scoped>\n",
       "    .dataframe tbody tr th:only-of-type {\n",
       "        vertical-align: middle;\n",
       "    }\n",
       "\n",
       "    .dataframe tbody tr th {\n",
       "        vertical-align: top;\n",
       "    }\n",
       "\n",
       "    .dataframe thead th {\n",
       "        text-align: right;\n",
       "    }\n",
       "</style>\n",
       "<table border=\"1\" class=\"dataframe\">\n",
       "  <thead>\n",
       "    <tr style=\"text-align: right;\">\n",
       "      <th></th>\n",
       "      <th>Date</th>\n",
       "      <th>day</th>\n",
       "      <th>month</th>\n",
       "      <th>year</th>\n",
       "    </tr>\n",
       "  </thead>\n",
       "  <tbody>\n",
       "    <tr>\n",
       "      <th>0</th>\n",
       "      <td>1970-01-01 00:00:00.010142018</td>\n",
       "      <td>1</td>\n",
       "      <td>1</td>\n",
       "      <td>1970</td>\n",
       "    </tr>\n",
       "    <tr>\n",
       "      <th>1</th>\n",
       "      <td>1970-01-01 00:00:00.010192018</td>\n",
       "      <td>1</td>\n",
       "      <td>1</td>\n",
       "      <td>1970</td>\n",
       "    </tr>\n",
       "    <tr>\n",
       "      <th>2</th>\n",
       "      <td>1970-01-01 00:00:00.010142018</td>\n",
       "      <td>1</td>\n",
       "      <td>1</td>\n",
       "      <td>1970</td>\n",
       "    </tr>\n",
       "    <tr>\n",
       "      <th>3</th>\n",
       "      <td>1970-01-01 00:00:00.010172018</td>\n",
       "      <td>1</td>\n",
       "      <td>1</td>\n",
       "      <td>1970</td>\n",
       "    </tr>\n",
       "    <tr>\n",
       "      <th>4</th>\n",
       "      <td>1970-01-01 00:00:00.010172018</td>\n",
       "      <td>1</td>\n",
       "      <td>1</td>\n",
       "      <td>1970</td>\n",
       "    </tr>\n",
       "  </tbody>\n",
       "</table>\n",
       "</div>"
      ],
      "text/plain": [
       "                           Date  day  month  year\n",
       "0 1970-01-01 00:00:00.010142018    1      1  1970\n",
       "1 1970-01-01 00:00:00.010192018    1      1  1970\n",
       "2 1970-01-01 00:00:00.010142018    1      1  1970\n",
       "3 1970-01-01 00:00:00.010172018    1      1  1970\n",
       "4 1970-01-01 00:00:00.010172018    1      1  1970"
      ]
     },
     "execution_count": 45,
     "metadata": {},
     "output_type": "execute_result"
    }
   ],
   "source": [
    "# Split the feature \"Date\" into \"day\", \"month\" and \"year\" columns\n",
    "df['Date'] = pd.to_datetime(df['Date'])  # <-- omit if datetime_utc is already datetime64[ns]\n",
    "df[['day', 'month', 'year']] = df['Date'].apply(lambda x: pd.Series([x.day, x.month, x.year]))\n",
    "\n",
    "df[[\"Date\", \"day\", \"month\", \"year\"]].head()"
   ]
  },
  {
   "cell_type": "markdown",
   "metadata": {},
   "source": [
    "### Feature engineering\n",
    "\n",
    "You can create new features based on the features you have. These might be more useful for your (future) machine learning model than the ones that are already present in the dataset.\n",
    "In this squirrel dataset, most of the fields encode the action taken by the squirrel when being approached by the human.\n",
    "We will combine them into a single feature `Reaction` with values `\"yes\"` and `\"no\"`."
   ]
  },
  {
   "cell_type": "code",
   "execution_count": 46,
   "metadata": {},
   "outputs": [
    {
     "data": {
      "text/plain": [
       "0        no\n",
       "1        no\n",
       "2        no\n",
       "3       yes\n",
       "4        no\n",
       "       ... \n",
       "3018    yes\n",
       "3019     no\n",
       "3020     no\n",
       "3021     no\n",
       "3022    yes\n",
       "Name: Reaction, Length: 3023, dtype: object"
      ]
     },
     "execution_count": 46,
     "metadata": {},
     "output_type": "execute_result"
    }
   ],
   "source": [
    "reaction_columns = [\"Kuks\", \"Quaas\", \"Moans\", \"Tail flags\",\n",
    "                    \"Tail twitches\", \"Approaches\", \"Runs from\",\n",
    "                    \"Other Interactions\"]\n",
    "\n",
    "df[\"Reaction\"] = df[reaction_columns].any(axis=1)\n",
    "df[\"Reaction\"] = df[\"Reaction\"].apply(lambda x: \"yes\" if x else \"no\")\n",
    "df[\"Reaction\"]"
   ]
  },
  {
   "cell_type": "markdown",
   "metadata": {},
   "source": [
    "A important step for a data processing pipeline is making the data understandable for machine learning algorithms. Most of them do not understand strings, like `yes` and `no` in our newly created column.\n",
    "We need to transform them to a binary format so that the machine learning model can take advantage of that feature.We are going to **One Hot Encode** our feature.\n"
   ]
  },
  {
   "cell_type": "code",
   "execution_count": 47,
   "metadata": {},
   "outputs": [
    {
     "data": {
      "text/html": [
       "<div>\n",
       "<style scoped>\n",
       "    .dataframe tbody tr th:only-of-type {\n",
       "        vertical-align: middle;\n",
       "    }\n",
       "\n",
       "    .dataframe tbody tr th {\n",
       "        vertical-align: top;\n",
       "    }\n",
       "\n",
       "    .dataframe thead th {\n",
       "        text-align: right;\n",
       "    }\n",
       "</style>\n",
       "<table border=\"1\" class=\"dataframe\">\n",
       "  <thead>\n",
       "    <tr style=\"text-align: right;\">\n",
       "      <th></th>\n",
       "      <th>Reaction_no</th>\n",
       "      <th>Reaction_yes</th>\n",
       "    </tr>\n",
       "  </thead>\n",
       "  <tbody>\n",
       "    <tr>\n",
       "      <th>0</th>\n",
       "      <td>True</td>\n",
       "      <td>False</td>\n",
       "    </tr>\n",
       "    <tr>\n",
       "      <th>1</th>\n",
       "      <td>True</td>\n",
       "      <td>False</td>\n",
       "    </tr>\n",
       "    <tr>\n",
       "      <th>2</th>\n",
       "      <td>True</td>\n",
       "      <td>False</td>\n",
       "    </tr>\n",
       "    <tr>\n",
       "      <th>3</th>\n",
       "      <td>False</td>\n",
       "      <td>True</td>\n",
       "    </tr>\n",
       "    <tr>\n",
       "      <th>4</th>\n",
       "      <td>True</td>\n",
       "      <td>False</td>\n",
       "    </tr>\n",
       "    <tr>\n",
       "      <th>...</th>\n",
       "      <td>...</td>\n",
       "      <td>...</td>\n",
       "    </tr>\n",
       "    <tr>\n",
       "      <th>3018</th>\n",
       "      <td>False</td>\n",
       "      <td>True</td>\n",
       "    </tr>\n",
       "    <tr>\n",
       "      <th>3019</th>\n",
       "      <td>True</td>\n",
       "      <td>False</td>\n",
       "    </tr>\n",
       "    <tr>\n",
       "      <th>3020</th>\n",
       "      <td>True</td>\n",
       "      <td>False</td>\n",
       "    </tr>\n",
       "    <tr>\n",
       "      <th>3021</th>\n",
       "      <td>True</td>\n",
       "      <td>False</td>\n",
       "    </tr>\n",
       "    <tr>\n",
       "      <th>3022</th>\n",
       "      <td>False</td>\n",
       "      <td>True</td>\n",
       "    </tr>\n",
       "  </tbody>\n",
       "</table>\n",
       "<p>3023 rows × 2 columns</p>\n",
       "</div>"
      ],
      "text/plain": [
       "      Reaction_no  Reaction_yes\n",
       "0            True         False\n",
       "1            True         False\n",
       "2            True         False\n",
       "3           False          True\n",
       "4            True         False\n",
       "...           ...           ...\n",
       "3018        False          True\n",
       "3019         True         False\n",
       "3020         True         False\n",
       "3021         True         False\n",
       "3022        False          True\n",
       "\n",
       "[3023 rows x 2 columns]"
      ]
     },
     "execution_count": 47,
     "metadata": {},
     "output_type": "execute_result"
    }
   ],
   "source": [
    "pd.get_dummies(df.Reaction, prefix=\"Reaction\")"
   ]
  },
  {
   "cell_type": "markdown",
   "metadata": {},
   "source": [
    "However, we have a redundancy here, as we could just transform `\"yes\"` to `1` and `\"no\"` to `0` in our `\"Reaction\"` column. This can be done by setting the argument `drop_first` to `True`."
   ]
  },
  {
   "cell_type": "code",
   "execution_count": 48,
   "metadata": {},
   "outputs": [
    {
     "data": {
      "text/html": [
       "<div>\n",
       "<style scoped>\n",
       "    .dataframe tbody tr th:only-of-type {\n",
       "        vertical-align: middle;\n",
       "    }\n",
       "\n",
       "    .dataframe tbody tr th {\n",
       "        vertical-align: top;\n",
       "    }\n",
       "\n",
       "    .dataframe thead th {\n",
       "        text-align: right;\n",
       "    }\n",
       "</style>\n",
       "<table border=\"1\" class=\"dataframe\">\n",
       "  <thead>\n",
       "    <tr style=\"text-align: right;\">\n",
       "      <th></th>\n",
       "      <th>Reaction</th>\n",
       "    </tr>\n",
       "  </thead>\n",
       "  <tbody>\n",
       "    <tr>\n",
       "      <th>0</th>\n",
       "      <td>False</td>\n",
       "    </tr>\n",
       "    <tr>\n",
       "      <th>1</th>\n",
       "      <td>False</td>\n",
       "    </tr>\n",
       "    <tr>\n",
       "      <th>2</th>\n",
       "      <td>False</td>\n",
       "    </tr>\n",
       "    <tr>\n",
       "      <th>3</th>\n",
       "      <td>True</td>\n",
       "    </tr>\n",
       "    <tr>\n",
       "      <th>4</th>\n",
       "      <td>False</td>\n",
       "    </tr>\n",
       "    <tr>\n",
       "      <th>...</th>\n",
       "      <td>...</td>\n",
       "    </tr>\n",
       "    <tr>\n",
       "      <th>3018</th>\n",
       "      <td>True</td>\n",
       "    </tr>\n",
       "    <tr>\n",
       "      <th>3019</th>\n",
       "      <td>False</td>\n",
       "    </tr>\n",
       "    <tr>\n",
       "      <th>3020</th>\n",
       "      <td>False</td>\n",
       "    </tr>\n",
       "    <tr>\n",
       "      <th>3021</th>\n",
       "      <td>False</td>\n",
       "    </tr>\n",
       "    <tr>\n",
       "      <th>3022</th>\n",
       "      <td>True</td>\n",
       "    </tr>\n",
       "  </tbody>\n",
       "</table>\n",
       "<p>3023 rows × 1 columns</p>\n",
       "</div>"
      ],
      "text/plain": [
       "      Reaction\n",
       "0        False\n",
       "1        False\n",
       "2        False\n",
       "3         True\n",
       "4        False\n",
       "...        ...\n",
       "3018      True\n",
       "3019     False\n",
       "3020     False\n",
       "3021     False\n",
       "3022      True\n",
       "\n",
       "[3023 rows x 1 columns]"
      ]
     },
     "execution_count": 48,
     "metadata": {},
     "output_type": "execute_result"
    }
   ],
   "source": [
    "df = pd.get_dummies(df.Reaction, prefix=\"Reaction\", drop_first=True)\n",
    "df.rename(columns={\"Reaction_yes\": \"Reaction\"})"
   ]
  },
  {
   "cell_type": "markdown",
   "metadata": {},
   "source": [
    "\n",
    "Similar things can be done after converting the data frame to an array using the `scikit-learn` library with `LabelBinarizer` or `OneHotEncoder`."
   ]
  },
  {
   "cell_type": "markdown",
   "metadata": {},
   "source": [
    "## Feature normalization or standardization\n",
    "Although they are sometimes used interchangeably, normalization and standardization are two different ways to bring a column of values to a common scale.\n",
    "In this section, we're going to use the word normalization to refer to this concept.\n",
    "\n",
    "Why do we normalize data ?\n",
    "\n",
    "*For example, assume your input dataset contains one column with values ranging from 0 to 1, and another column with values ranging from 10,000 to 100,000. The great difference in the scale of the numbers could cause problems when you attempt to combine the values as features during modeling.* [[Source]](https://docs.microsoft.com/en-us/azure/machine-learning/studio-module-reference/normalize-data)\n",
    "\n",
    "Some algorithms require that data be normalized before training a model. Other algorithms perform their own data scaling or normalization.\n",
    "\n",
    "Given a column of values *x*, if we choose to scale them, there are a few options:\n",
    "\n",
    "- Normalization, also called *min-max scaling*, rescales every value to a range between [0, 1]. The maximum and the minimum are computed for each column separately.\n",
    "\n",
    "  $$ z = \\frac{x - min(x)}{max(x) - min(x)} $$\n",
    "\n",
    "- Standardization, also called z-score normalization, rescales the value around a 0 mean and a standard deviation of 1. It essentially transforms all values of *x* to a *z-score*. Mean and standard deviation are computed for each column separately.\n",
    "\n",
    "$$ z = \\frac{x - mean(x)}{std(x)} $$\n",
    "\n",
    "\n",
    "### Be careful!\n",
    "\n",
    "When you want to normalize your dataset, you have to do so **AFTER** splitting your data into different train-test splits. Indeed, normalizing your data before would use some information from your testing set in the training set, thus biasing the model.\n",
    "Indeed, in a real world scenario, you would not have access to the testing set, as this would be the data that you are meant to predict.\n",
    "\n",
    "The procedure is the following:\n",
    "1. Split your data into train and test\n",
    "2. For every variable $x$ of your **training set**, compute $max(x_{train})$ and $min(x_{train})$ , or $mean(x_{train})$ and $std(x_{train})$ depending if you do min-max scaling or z-score-normalization.\n",
    "3. Normalize your training set and your testing set using these values (here I'm only showing the testing set).\n",
    "$$ z_{test} = \\frac{x_{test} - min(x_{train})}{max(x_{train}) - min(x_{train})} $$\n",
    "\n",
    "\n",
    "$$ z_{test} = \\frac{x_{test} - mean(x_{train})}{std(x_{train})} $$\n"
   ]
  },
  {
   "cell_type": "code",
   "execution_count": 1,
   "metadata": {},
   "outputs": [],
   "source": [
    "from sklearn.model_selection import train_test_split\n",
    "from sklearn import datasets\n",
    "import numpy as np\n",
    "dataset = datasets.load_breast_cancer()\n",
    "X, y = dataset.data, dataset.target"
   ]
  },
  {
   "cell_type": "code",
   "execution_count": 50,
   "metadata": {},
   "outputs": [
    {
     "name": "stdout",
     "output_type": "stream",
     "text": [
      "['mean radius' 'mean texture' 'mean perimeter' 'mean area'\n",
      " 'mean smoothness' 'mean compactness' 'mean concavity'\n",
      " 'mean concave points' 'mean symmetry' 'mean fractal dimension'\n",
      " 'radius error' 'texture error' 'perimeter error' 'area error'\n",
      " 'smoothness error' 'compactness error' 'concavity error'\n",
      " 'concave points error' 'symmetry error' 'fractal dimension error'\n",
      " 'worst radius' 'worst texture' 'worst perimeter' 'worst area'\n",
      " 'worst smoothness' 'worst compactness' 'worst concavity'\n",
      " 'worst concave points' 'worst symmetry' 'worst fractal dimension']\n"
     ]
    }
   ],
   "source": [
    "print(dataset.feature_names)"
   ]
  },
  {
   "cell_type": "code",
   "execution_count": 51,
   "metadata": {},
   "outputs": [
    {
     "name": "stdout",
     "output_type": "stream",
     "text": [
      "(455, 30)\n"
     ]
    }
   ],
   "source": [
    "# Splitting data into train and test split\n",
    "X_train, X_test, y_train, y_test = train_test_split(X,y, random_state=41, test_size=0.2)\n",
    "print(X_train.shape)"
   ]
  },
  {
   "cell_type": "markdown",
   "metadata": {},
   "source": [
    "Here, we'll want you to use numpy's mean and standard deviation functions to standardize each feature of the training and testing set. These are `np.mean()` and `np.std()`."
   ]
  },
  {
   "cell_type": "code",
   "execution_count": 52,
   "metadata": {},
   "outputs": [
    {
     "data": {
      "text/plain": [
       "array([[1.283e+01, 1.573e+01, 8.289e+01, ..., 9.783e-02, 3.006e-01,\n",
       "        7.802e-02],\n",
       "       [1.426e+01, 1.817e+01, 9.122e+01, ..., 7.530e-02, 2.636e-01,\n",
       "        7.676e-02],\n",
       "       [1.365e+01, 1.316e+01, 8.788e+01, ..., 8.056e-02, 2.380e-01,\n",
       "        8.718e-02],\n",
       "       ...,\n",
       "       [1.375e+01, 2.377e+01, 8.854e+01, ..., 6.106e-02, 2.663e-01,\n",
       "        6.321e-02],\n",
       "       [2.016e+01, 1.966e+01, 1.311e+02, ..., 1.425e-01, 3.055e-01,\n",
       "        5.933e-02],\n",
       "       [1.145e+01, 2.097e+01, 7.381e+01, ..., 6.127e-02, 2.762e-01,\n",
       "        8.851e-02]])"
      ]
     },
     "execution_count": 52,
     "metadata": {},
     "output_type": "execute_result"
    }
   ],
   "source": [
    "X_train"
   ]
  },
  {
   "cell_type": "code",
   "execution_count": 55,
   "metadata": {},
   "outputs": [
    {
     "name": "stdout",
     "output_type": "stream",
     "text": [
      "Feature 'mean radius' has mean -0.00 and standard deviation 1.00\n",
      "[-0.23553981 -0.21465467  0.26901624  3.322639   -0.32728748 -0.32734301\n",
      " -0.3275183  -0.32771685 -0.32671062 -0.32751268 -0.32685898 -0.32442766\n",
      " -0.31933241 -0.24410991 -0.32790343 -0.32780918 -0.32769957 -0.32787832\n",
      " -0.32782322 -0.32792204 -0.22646558 -0.18858426  0.34341053  4.03489411\n",
      " -0.32698357 -0.32605886 -0.32543519 -0.32723397 -0.32577367 -0.32737664]\n",
      "Feature 'mean texture' has mean 58.27 and standard deviation 181.86\n",
      "[-0.24200465 -0.22050502  0.18116965  3.16076538 -0.32005347 -0.32012803\n",
      " -0.32027897 -0.32033951 -0.31951604 -0.32010791 -0.31915038 -0.31673648\n",
      " -0.31128184 -0.2073633  -0.32039764 -0.32033935 -0.32035573 -0.32038623\n",
      " -0.32035441 -0.3204043  -0.23122734 -0.18151976  0.26133962  4.18680909\n",
      " -0.31989572 -0.31922351 -0.31955453 -0.32000102 -0.31896562 -0.31999299]\n",
      "Feature 'mean perimeter' has mean 51.40 and standard deviation 159.37\n",
      "[-0.236895   -0.23996968  0.22888697  3.24721443 -0.32194141 -0.32200008\n",
      " -0.32230272 -0.32238586 -0.3216933  -0.32214861 -0.32122771 -0.31982591\n",
      " -0.31381837 -0.21336432 -0.32252075 -0.32244032 -0.32244302 -0.3225049\n",
      " -0.32246065 -0.32252952 -0.22629051 -0.21995291  0.30311843  4.10875108\n",
      " -0.32172405 -0.32099428 -0.32144294 -0.32204118 -0.32105327 -0.32199964]\n",
      "Feature 'mean area' has mean 37.99 and standard deviation 109.21\n",
      "[-0.24879637 -0.126194    0.28290785  2.96303775 -0.34711706 -0.34726264\n",
      " -0.3477254  -0.34779243 -0.34605786 -0.34728773 -0.34310955 -0.33030543\n",
      " -0.31523422 -0.04571044 -0.34779148 -0.34769592 -0.34775022 -0.34781296\n",
      " -0.34764135 -0.34783988 -0.22856103 -0.05990265  0.42034337  4.2815397\n",
      " -0.34676473 -0.34637192 -0.3473     -0.34756828 -0.34506624 -0.34716888]\n",
      "Feature 'mean smoothness' has mean 120.81 and standard deviation 389.15\n",
      "[-0.2575079  -0.23507431  0.04957266  2.94024145 -0.31014125 -0.30973215\n",
      " -0.30954096 -0.31005336 -0.309828   -0.31026367 -0.30857835 -0.30634527\n",
      " -0.29561158 -0.08888341 -0.3104272  -0.31028572 -0.31026107 -0.3104012\n",
      " -0.31038424 -0.31042807 -0.24429958 -0.20914592  0.16392484  4.3690012\n",
      " -0.31001996 -0.30821319 -0.30803177 -0.30976299 -0.30939372 -0.31012532]\n",
      "Feature 'mean compactness' has mean 32.05 and standard deviation 94.17\n",
      "[-0.22444791 -0.20915698  0.39387898  3.52172318 -0.33939342 -0.33979661\n",
      " -0.34016668 -0.34015255 -0.33875927 -0.33965751 -0.33843647 -0.32939252\n",
      " -0.32684403 -0.22253654 -0.34026099 -0.34016827 -0.34018409 -0.34019818\n",
      " -0.33998563 -0.34026152 -0.21956331 -0.18292879  0.42870831  3.82435612\n",
      " -0.33930911 -0.33950088 -0.33999168 -0.33995876 -0.33802234 -0.33959252]\n",
      "Feature 'mean concavity' has mean 66.88 and standard deviation 215.55\n",
      "[-0.24324837 -0.2164798   0.1280785   2.6713706  -0.30982778 -0.30972627\n",
      " -0.30973833 -0.31000834 -0.30938111 -0.30998579 -0.30931523 -0.30726607\n",
      " -0.30357739 -0.22019122 -0.310267   -0.31021168 -0.31019298 -0.31025188\n",
      " -0.31021516 -0.3102766  -0.22524802 -0.17055107  0.23668372  4.53310812\n",
      " -0.30956575 -0.30840408 -0.30798144 -0.30943307 -0.30808072 -0.30981581]\n",
      "Feature 'mean concave points' has mean 37.87 and standard deviation 112.13\n",
      "[-0.23502346 -0.20461366  0.32100337  3.28555832 -0.33685351 -0.33706059\n",
      " -0.33737093 -0.33749569 -0.33607766 -0.33720684 -0.33547214 -0.32850018\n",
      " -0.32272143 -0.17170686 -0.33769748 -0.33764738 -0.33756917 -0.33766718\n",
      " -0.33760734 -0.33773206 -0.22494631 -0.14878803  0.38351738  4.04803297\n",
      " -0.3365182  -0.33634609 -0.33614811 -0.33690007 -0.33538118 -0.3370605 ]\n",
      "Feature 'mean symmetry' has mean 51.78 and standard deviation 157.30\n",
      "[-0.24345384 -0.18744555  0.22330309  3.23726106 -0.32865815 -0.32872516\n",
      " -0.32891251 -0.32899941 -0.3280645  -0.32885103 -0.3277282  -0.32061305\n",
      " -0.31818454 -0.200796   -0.32918622 -0.32912669 -0.32908136 -0.32913928\n",
      " -0.32911022 -0.32920211 -0.23290063 -0.12692354  0.3001635   4.11330445\n",
      " -0.32847582 -0.3281268  -0.3277638  -0.32839953 -0.32738935 -0.32877481]\n",
      "Feature 'mean fractal dimension' has mean 102.60 and standard deviation 333.78\n",
      "[-0.25150756 -0.25465336  0.06322259  2.91631656 -0.30705376 -0.30687789\n",
      " -0.30679161 -0.30708072 -0.30681168 -0.30720179 -0.30549883 -0.30539577\n",
      " -0.29452118 -0.09298902 -0.30736416 -0.30726336 -0.30721662 -0.30733224\n",
      " -0.30731027 -0.30737243 -0.23901422 -0.24350823  0.14381508  4.38735419\n",
      " -0.30687999 -0.30585805 -0.30518245 -0.30667057 -0.30624484 -0.30710783]\n",
      "Feature 'radius error' has mean 34.60 and standard deviation 101.65\n",
      "[-0.23153912 -0.19317156  0.36296127  3.33802103 -0.33932933 -0.33945063\n",
      " -0.33981463 -0.3400169  -0.33859838 -0.33966608 -0.33877054 -0.33225396\n",
      " -0.32701531 -0.23409696 -0.34027262 -0.34016092 -0.34007425 -0.34024622\n",
      " -0.34011459 -0.34031688 -0.22307858 -0.14457266  0.44432016  3.98830195\n",
      " -0.33895057 -0.33817142 -0.33808386 -0.33928801 -0.33709811 -0.3394523 ]\n",
      "Feature 'texture error' has mean 44.12 and standard deviation 127.51\n",
      "[-0.24976105 -0.11094565  0.26118941  3.30399156 -0.3453869  -0.34572421\n",
      " -0.34599071 -0.34599071 -0.34465667 -0.34552328 -0.34249679 -0.31738846\n",
      " -0.32337242 -0.07047743 -0.34593315 -0.34592606 -0.34599071 -0.34599071\n",
      " -0.34574437 -0.34596611 -0.24050669 -0.04757682  0.32126432  4.03728193\n",
      " -0.34525177 -0.34558187 -0.34599071 -0.34599071 -0.34410141 -0.34546187]\n",
      "Feature 'perimeter error' has mean 25.71 and standard deviation 69.86\n",
      "[-0.23435805 -0.0539039   0.47670886  3.41089583 -0.3666262  -0.3671465\n",
      " -0.36737681 -0.36776529 -0.3655269  -0.36700752 -0.36363604 -0.34105315\n",
      " -0.33758921 -0.11230423 -0.3677922  -0.36768628 -0.36737681 -0.36776529\n",
      " -0.36741074 -0.36788262 -0.22702938 -0.00938797  0.53181701  3.86607484\n",
      " -0.36636998 -0.36676103 -0.36680469 -0.36758179 -0.36446338 -0.36689057]\n",
      "Feature 'area error' has mean 40.51 and standard deviation 122.46\n",
      "[-0.23229783 -0.22674483  0.29670755  3.33256803 -0.33002166 -0.33035402\n",
      " -0.33062097 -0.33062171 -0.32948359 -0.33029963 -0.32929413 -0.32483295\n",
      " -0.32121941 -0.22258008 -0.33073687 -0.33070207 -0.33071389 -0.33073078\n",
      " -0.33066238 -0.33076135 -0.22347836 -0.18044257  0.35583072  4.02016071\n",
      " -0.32974082 -0.32977594 -0.33007678 -0.33020834 -0.32872903 -0.33013704]\n",
      "Feature 'smoothness error' has mean 56.79 and standard deviation 171.28\n",
      "[-0.24852104 -0.19655922  0.21942726  3.22930111 -0.33091556 -0.33013438\n",
      " -0.3303866  -0.3311568  -0.33015131 -0.33110286 -0.32987341 -0.31922415\n",
      " -0.31921247 -0.14634893 -0.33149666 -0.33075267 -0.33086243 -0.33144592\n",
      " -0.33124467 -0.33147476 -0.23964667 -0.11447122  0.28966329  4.11965815\n",
      " -0.33064816 -0.32609771 -0.32658755 -0.33050862 -0.32852707 -0.33069896]\n",
      "Feature 'compactness error' has mean 35.12 and standard deviation 102.63\n",
      "[-0.23249532 -0.14899224  0.35251346  3.43930196 -0.34137954 -0.34177884\n",
      " -0.34215946 -0.34215364 -0.34061379 -0.34159079 -0.34089928 -0.33165645\n",
      " -0.33264836 -0.25128108 -0.3421679  -0.34215134 -0.34217135 -0.34216922\n",
      " -0.34206394 -0.34218646 -0.22596708 -0.08468414  0.4020112   3.90504846\n",
      " -0.34112923 -0.34145632 -0.34196202 -0.34193289 -0.33971737 -0.34146704]\n",
      "Feature 'concavity error' has mean 122.86 and standard deviation 406.44\n",
      "[-0.25224752 -0.24936885  0.03207659  2.80765663 -0.30200424 -0.30183079\n",
      " -0.30166102 -0.30192207 -0.30166003 -0.302128   -0.30088919 -0.29977512\n",
      " -0.29242098 -0.13237672 -0.30227862 -0.3022323  -0.30221362 -0.30225843\n",
      " -0.30222401 -0.30228388 -0.24004393 -0.22390369  0.11868275  4.4659679\n",
      " -0.30190042 -0.3011869  -0.30097727 -0.30163149 -0.30092462 -0.30204017]\n",
      "Feature 'concave points error' has mean 71.67 and standard deviation 223.05\n",
      "[-0.25370875 -0.20591746  0.11804118  2.89137102 -0.32085687 -0.32087799\n",
      " -0.32076227 -0.32102217 -0.32057756 -0.32102616 -0.31838661 -0.3145642\n",
      " -0.30260293 -0.03721328 -0.32126879 -0.32120697 -0.32109574 -0.32123768\n",
      " -0.32122091 -0.32129413 -0.23833125 -0.17238285  0.22205226  4.38608192\n",
      " -0.32057174 -0.3202597  -0.31950966 -0.32063181 -0.3201261  -0.32089282]\n",
      "Feature 'symmetry error' has mean 30.32 and standard deviation 84.97\n",
      "[-0.23718334 -0.18174908  0.40284104  3.3140222  -0.3555443  -0.35593023\n",
      " -0.35675138 -0.35672714 -0.3536506  -0.35605981 -0.35080827 -0.33991914\n",
      " -0.31789844  0.05058047 -0.35679053 -0.35674962 -0.35678875 -0.35678254\n",
      " -0.35638665 -0.3568089  -0.22717928 -0.15150152  0.46533699  3.98135179\n",
      " -0.35537836 -0.35571779 -0.3566238  -0.35657543 -0.35269256 -0.35593505]\n",
      "Feature 'fractal dimension error' has mean 23.72 and standard deviation 64.45\n",
      "[-0.2291114  -0.12345004  0.54341125  3.43645351 -0.3665081  -0.3660476\n",
      " -0.36653898 -0.36761809 -0.3659514  -0.36686481 -0.3631167  -0.35278795\n",
      " -0.31708496 -0.10514161 -0.36769148 -0.36692734 -0.36653898 -0.36761809\n",
      " -0.3676063  -0.36788929 -0.22191216 -0.10312458  0.6147831   3.82124085\n",
      " -0.3661469  -0.36506081 -0.36558058 -0.36737946 -0.36541301 -0.36677808]\n",
      "Feature 'worst radius' has mean 81.56 and standard deviation 262.33\n",
      "[-0.25076466 -0.22358561  0.09200393  2.67229813 -0.31047661 -0.31024904\n",
      " -0.3101038  -0.31055555 -0.31011791 -0.31063743 -0.3088127  -0.3068305\n",
      " -0.29720157 -0.08742354 -0.31088373 -0.31076532 -0.31069008 -0.3108639\n",
      " -0.3108599  -0.31089408 -0.23395406 -0.19465308  0.18577736  4.53785579\n",
      " -0.31020977 -0.30903951 -0.30811283 -0.31014154 -0.30966886 -0.31043963]\n",
      "Feature 'worst texture' has mean 72.27 and standard deviation 225.82\n",
      "[-0.24714326 -0.23097972  0.16398635  3.36835282 -0.31959883 -0.31934513\n",
      " -0.31924018 -0.31964156 -0.31923973 -0.31975418 -0.31868929 -0.31434816\n",
      " -0.30904298 -0.18014206 -0.32000484 -0.31985289 -0.31979634 -0.3199539\n",
      " -0.3199597  -0.32001388 -0.24125353 -0.19404714  0.22686916  4.02507967\n",
      " -0.31940757 -0.31796746 -0.31743827 -0.31913301 -0.31868176 -0.31961265]\n",
      "Feature 'worst perimeter' has mean 73.39 and standard deviation 233.17\n",
      "[-0.24720357 -0.22790472  0.12526423  2.95018702 -0.31430996 -0.31423319\n",
      " -0.31425764 -0.31447241 -0.3139197  -0.31447923 -0.3132601  -0.31080014\n",
      " -0.30512585 -0.17669844 -0.31472911 -0.31464773 -0.31464731 -0.31471251\n",
      " -0.31467355 -0.31473612 -0.23086388 -0.18484684  0.22518939  4.35128353\n",
      " -0.31408395 -0.31282824 -0.31304439 -0.31411526 -0.31303709 -0.31429324]\n",
      "Feature 'worst area' has mean 125.67 and standard deviation 413.88\n",
      "[-2.55787840e-01 -2.51535404e-01  9.74780893e-03  2.66824531e+00\n",
      " -3.03401040e-01 -3.03312198e-01 -3.03320413e-01 -3.03417760e-01\n",
      " -3.03121805e-01 -3.03492902e-01 -3.01319593e-01 -3.00762186e-01\n",
      " -2.87954138e-01 -3.05782292e-03 -3.03611308e-01 -3.03551180e-01\n",
      " -3.03544487e-01 -3.03586383e-01 -3.03581914e-01 -3.03617975e-01\n",
      " -2.41460030e-01 -2.34429013e-01  1.07843781e-01  4.55043157e+00\n",
      " -3.03300842e-01 -3.02846121e-01 -3.02753824e-01 -3.03188007e-01\n",
      " -3.02885988e-01 -3.03428294e-01]\n",
      "Feature 'worst smoothness' has mean 52.93 and standard deviation 159.17\n",
      "[-0.24626449 -0.19047669  0.25551159  3.30059565 -0.33181144 -0.33108142\n",
      " -0.33118508 -0.33201781 -0.33122214 -0.33203936 -0.33118948 -0.32517784\n",
      " -0.31957393 -0.21183688 -0.33248159 -0.33214905 -0.33217638 -0.3324197\n",
      " -0.33239878 -0.33247113 -0.23809736 -0.13142204  0.35100422  4.05071538\n",
      " -0.33148475 -0.32766881 -0.3281601  -0.33113482 -0.33026282 -0.33162296]\n",
      "Feature 'worst compactness' has mean 113.99 and standard deviation 364.34\n",
      "[-0.25743136 -0.23923403  0.05409158  3.07408006 -0.31260235 -0.31241612\n",
      " -0.31242381 -0.31252701 -0.31235958 -0.31270898 -0.31019512 -0.30768125\n",
      " -0.29331002 -0.02852376 -0.31285105 -0.31274593 -0.31271217 -0.31280461\n",
      " -0.31277238 -0.31286245 -0.24648003 -0.22007606  0.12627707  4.273512\n",
      " -0.31252344 -0.31193663 -0.31185785 -0.31228355 -0.31197642 -0.31266474]\n",
      "Feature 'worst concavity' has mean 130.60 and standard deviation 433.29\n",
      "[-0.25273785 -0.24009034  0.02793075  2.72429714 -0.30114897 -0.3007587\n",
      " -0.30083832 -0.30106704 -0.30085955 -0.30124156 -0.29995876 -0.29965158\n",
      " -0.29122506 -0.1134075  -0.30140249 -0.30130247 -0.30132294 -0.30137614\n",
      " -0.30137081 -0.30140008 -0.23983646 -0.22414247  0.10593912  4.51987452\n",
      " -0.30106819 -0.29966196 -0.29984752 -0.30074231 -0.30046651 -0.30111596]\n",
      "Feature 'worst concave points' has mean 53.17 and standard deviation 164.13\n",
      "[-0.23955881 -0.21908748  0.21489259  3.26280598 -0.32340689 -0.32356829\n",
      " -0.32385562 -0.32387261 -0.32295878 -0.32358327 -0.32261089 -0.31872621\n",
      " -0.31483361 -0.21482262 -0.32391411 -0.32388627 -0.32388652 -0.3239128\n",
      " -0.32386616 -0.32393173 -0.22956685 -0.18027724  0.28715152  4.09871874\n",
      " -0.32323721 -0.32311962 -0.32344771 -0.32363116 -0.32250183 -0.32350456]\n",
      "Feature 'worst symmetry' has mean 38.08 and standard deviation 112.36\n",
      "[-0.2347322  -0.16878604  0.32265082  3.38741197 -0.33807331 -0.33839023\n",
      " -0.33871684 -0.33875556 -0.33713476 -0.33831235 -0.33743289 -0.32613127\n",
      " -0.32898805 -0.23847004 -0.33880376 -0.33877665 -0.33876499 -0.33878975\n",
      " -0.33864867 -0.33884294 -0.22663355 -0.10257289  0.3812993   3.96054732\n",
      " -0.3377693  -0.33789033 -0.33815332 -0.3383468  -0.33575443 -0.33823849]\n",
      "Feature 'worst fractal dimension' has mean 105.17 and standard deviation 339.71\n",
      "[-0.25018882 -0.25207281  0.08427697  3.37006049 -0.30925963 -0.30915483\n",
      " -0.30896526 -0.30922254 -0.30908566 -0.30941497 -0.30831823 -0.30664649\n",
      " -0.30073843 -0.15507714 -0.3095664  -0.30951323 -0.30942989 -0.30953693\n",
      " -0.309521   -0.30958136 -0.24474294 -0.23579402  0.12019039  4.04417304\n",
      " -0.30910302 -0.30872711 -0.30803063 -0.30895348 -0.30870062 -0.30935545]\n"
     ]
    }
   ],
   "source": [
    "# Standardizing each feature using the train mean and standard deviation\n",
    "for idx, name in enumerate(dataset.feature_names):\n",
    "    mean = X_train[idx].mean()\n",
    "    stdev = X_train[idx].std()\n",
    "    # Get mean and standard deviation from training set (per feature)\n",
    "    print(f\"Feature '{name}' has mean {mean:.2f} and standard deviation {stdev:.2f}\")\n",
    "    # Standardize training and testing set using the mean and standard deviation from the training set\n",
    "    X_train[idx] = (X_train[idx] - mean) / stdev\n",
    "    \n",
    "    print(X_train[idx])\n",
    "    "
   ]
  },
  {
   "cell_type": "markdown",
   "metadata": {},
   "source": [
    "If you run the previous cell twice (without running the others cells again), you'll see that the second time, the mean and standard deviation for each feature will be 0 and 1 respectively, which is exactly what we want when we standardize (z-score normalization)."
   ]
  },
  {
   "cell_type": "markdown",
   "metadata": {},
   "source": [
    "## Resampling\n",
    "\n",
    "Sometimes, when you have multiple classes and the number of samples of each class are not equally distributed, i.e. there is an imbalance in the number of samples of each class, you can resort to resampling.\n",
    "Resampling is using more (or less) of a given class to get a balanced dataset.\n",
    "\n",
    "**BE CAREFUL**, resample **AFTER** splitting your data set into two parts. You do not want to accidentally have a copy of a testing sample in the training set.\n",
    "Moreover, **do not resample the testing set**. This would give a false sense of the performance of the model.\n"
   ]
  },
  {
   "cell_type": "code",
   "execution_count": 56,
   "metadata": {},
   "outputs": [],
   "source": [
    "\n",
    "import sklearn\n",
    "import numpy as np\n",
    "from sklearn import datasets\n",
    "\n",
    "dataset = datasets.load_breast_cancer()\n",
    "X, y = dataset.data, dataset.target"
   ]
  },
  {
   "cell_type": "code",
   "execution_count": 65,
   "metadata": {},
   "outputs": [
    {
     "name": "stdout",
     "output_type": "stream",
     "text": [
      "Shape of class 0 samples:  (212, 30)\n",
      "Shape of class 1 samples:  (357, 30)\n"
     ]
    }
   ],
   "source": [
    "# We separate the samples of the different classes\n",
    "class_one_idx = np.argwhere(y==1)\n",
    "class_zero_idx = np.argwhere(y==0)\n",
    "\n",
    "class_one_x = np.squeeze(X[class_one_idx])\n",
    "class_zero_x = np.squeeze(X[class_zero_idx])\n",
    "\n",
    "print(\"Shape of class 0 samples: \", class_zero_x.shape)\n",
    "print(\"Shape of class 1 samples: \", class_one_x.shape)"
   ]
  },
  {
   "cell_type": "markdown",
   "metadata": {},
   "source": [
    "You see that we have 212 samples of class 0 and 357 samples of class 1.\n",
    "We can either upsample, i.e. take more samples of, the minority class (here class 0) or we can downsample, i.e. take fewer samples of, the majority class (here class 1).\n",
    "To do this, we first have to separate the samples of each class."
   ]
  },
  {
   "cell_type": "code",
   "execution_count": 66,
   "metadata": {},
   "outputs": [
    {
     "name": "stdout",
     "output_type": "stream",
     "text": [
      "New shape of class 0 samples:  (357, 30)\n",
      "New shape of class 1 samples:  (212, 30)\n"
     ]
    }
   ],
   "source": [
    "from sklearn.utils import resample\n",
    "\n",
    "# Upsample minority class\n",
    "class_zero_upsampled = resample(class_zero_x, \n",
    "                                 replace=True,     # sample with replacement\n",
    "                                 n_samples=357,    # to match majority class\n",
    "                                 random_state=123) # reproducible results\n",
    "\n",
    "print(\"New shape of class 0 samples: \",class_zero_upsampled.shape)\n",
    "\n",
    "# Downsample majority class\n",
    "class_one_downsampled = resample(class_one_x, \n",
    "                                 replace=True,     # sample with replacement\n",
    "                                 n_samples=212,    # to match minority class\n",
    "                                 random_state=123) # reproducible results\n",
    "\n",
    "print(\"New shape of class 1 samples: \",class_one_downsampled.shape)"
   ]
  },
  {
   "cell_type": "markdown",
   "metadata": {},
   "source": [
    "After having either upsampled our minority class, or downsampled our majority class, we can combine the upsampled with the majority class or the downsampled with the minority class to have a balanced data set.\n",
    "\n",
    "Which one you use depends on what you want to do, and which one does best."
   ]
  },
  {
   "cell_type": "code",
   "execution_count": null,
   "metadata": {},
   "outputs": [
    {
     "name": "stdout",
     "output_type": "stream",
     "text": [
      "(Upsampled) Balanced data set shape:  (714, 30)\n",
      "(Downsampled) Balanced data set shape:  (424, 30)\n"
     ]
    }
   ],
   "source": [
    "X_balanced = np.concatenate((class_zero_upsampled, class_one_x), axis=0)\n",
    "print(\"(Upsampled) Balanced data set shape: \", X_balanced.shape)\n",
    "\n",
    "X_balanced = np.concatenate((class_one_downsampled, class_zero_x), axis=0)\n",
    "print(\"(Downsampled) Balanced data set shape: \", X_balanced.shape)"
   ]
  },
  {
   "cell_type": "markdown",
   "metadata": {},
   "source": [
    "## Reading material and additional ressources\n",
    "\n",
    "[[1] Feature Engineering - Elite Data Science](https://elitedatascience.com/feature-engineering)  \n",
    "[[2] Feature Engineering - Towards Data Science](https://towardsdatascience.com/feature-engineering-for-machine-learning-3a5e293a5114)  \n",
    "[[3] Feature Engineering Tutorial - Kaggle](https://towardsdatascience.com/feature-engineering-for-machine-learning-3a5e293a5114)  \n",
    "[[4] LabelBinarizer - scikit-learn](https://scikit-learn.org/stable/modules/generated/sklearn.preprocessing.LabelEncoder.html)  \n",
    "[[5] OneHotEncoder - scikit-learn](https://scikit-learn.org/stable/modules/generated/sklearn.preprocessing.OneHotEncoder.html)  \n",
    "[[6] Zscore - Simply Psychology](https://www.simplypsychology.org/z-score.html)  \n",
    "[[7] Normalize data - Microsoft Azure](https://docs.microsoft.com/en-us/azure/machine-learning/studio-module-reference/normalize-data)  \n",
    "[[8] How to handle imbalanced classes - Elite Data Science ](https://elitedatascience.com/imbalanced-classes)"
   ]
  }
 ],
 "metadata": {
  "interpreter": {
   "hash": "6922277e53701330cd18f9c625d32c99c01f722fe74997b870ac987017115c44"
  },
  "kernelspec": {
   "display_name": "Python 3.8.8 64-bit ('base': conda)",
   "name": "python3"
  },
  "language_info": {
   "codemirror_mode": {
    "name": "ipython",
    "version": 3
   },
   "file_extension": ".py",
   "mimetype": "text/x-python",
   "name": "python",
   "nbconvert_exporter": "python",
   "pygments_lexer": "ipython3",
   "version": "3.12.3"
  }
 },
 "nbformat": 4,
 "nbformat_minor": 4
}
