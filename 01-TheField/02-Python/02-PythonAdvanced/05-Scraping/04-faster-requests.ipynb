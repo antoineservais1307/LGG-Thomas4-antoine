{
 "cells": [
  {
   "cell_type": "markdown",
   "metadata": {},
   "source": [
    "# Make your requests faster\n",
    "\n",
    "When you start scraping web-pages or requesting APIs, you will be facing a problem when doing a lot of requests: this is really slow!\n",
    "\n",
    "It's because python is slow! You could say, well it should not be. Let's see how we can speed things up!\n",
    "\n",
    "## Measure performances\n",
    "\n",
    "In this notebook we will need to track how much time some code is taking to execute.\n",
    "To make things easier, we will create a simple decorator that will print the number of micro-seconds a function takes to execute.\n",
    "\n",
    "A good opportonity to practice decorators in a practical example!\n",
    "\n",
    "*Note that you need python3.3 or higher.*"
   ]
  },
  {
   "cell_type": "code",
   "execution_count": 1,
   "metadata": {},
   "outputs": [
    {
     "name": "stdout",
     "output_type": "stream",
     "text": [
      "example took 2.0 sec\n"
     ]
    }
   ],
   "source": [
    "import time\n",
    "\n",
    "def print_timing(func):\n",
    "    '''Create a timing decorator function use @print_timing just above the function you want to time.'''\n",
    "\n",
    "    def wrapper(*arg):\n",
    "        start = time.perf_counter()\n",
    "        \n",
    "        # Run the function decorated\n",
    "        result = func(*arg)\n",
    "\n",
    "        end = time.perf_counter()\n",
    "        execution_time = round((end - start), 2)\n",
    "        print(f'{func.__name__} took {execution_time} sec')\n",
    "        return result\n",
    "\n",
    "    return wrapper\n",
    "\n",
    "\n",
    "@print_timing\n",
    "def example():\n",
    "    time.sleep(2)\n",
    "\n",
    "\n",
    "example()"
   ]
  },
  {
   "cell_type": "markdown",
   "metadata": {},
   "source": [
    "## The API\n",
    "\n",
    "For this example, we will use the [quotable.io](https://api.quotable.io) API. It's an online API you can use to generate random quote.\n",
    "\n",
    "But feel free to replace `api_url` value with any API you'd like."
   ]
  },
  {
   "cell_type": "code",
   "execution_count": 2,
   "metadata": {},
   "outputs": [],
   "source": [
    "api_url = \"https://api.quotable.io/random\""
   ]
  },
  {
   "cell_type": "markdown",
   "metadata": {},
   "source": [
    "## The \"classic\" way\n",
    "\n",
    "If you start playing with requests, your should probably have something like this:"
   ]
  },
  {
   "cell_type": "code",
   "execution_count": 3,
   "metadata": {},
   "outputs": [
    {
     "name": "stdout",
     "output_type": "stream",
     "text": [
      "It is not fair to ask of others what you are unwilling to do yourself.\n",
      "Happiness is found in doing, not merely possessing.\n",
      "All men have a sweetness in their life. That is what helps them go on. It is towards that they turn when they feel too worn out.\n",
      "Our greatest weakness lies in giving up. The most certain way to succeed is always to try just one more time.\n",
      "As a technology, the book is like a hammer. That is to say, it is perfect: a tool ideally suited to its task. Hammers can be tweaked and varied but will never go obsolete. Even when builders pound nails by the thousand with pneumatic nail guns, every household needs a hammer.\n",
      "We should not judge people by their peak of excellence; but by the distance they have traveled from the point where they started.\n",
      "If you live to be a hundred, I want to live to be a hundred minus one day, so I never have to live without you.\n",
      "Before we acquire great power, we must acquire wisdom to use it well.\n",
      "Sometimes the most important thing in a whole day is the rest we take between two deep breaths.\n",
      "Can you imagine what I would do if I could do all I can?\n",
      "Do not be too timid and squeamish about your reactions. All life is an experiment. The more experiments you make the better.\n",
      "Love does not consist of gazing at each other, but in looking together in the same direction.\n",
      "It's so simple to be wise. Just think of something stupid to say and then don't say it.\n",
      "Build a better mousetrap and the world will beat a path to your door.\n",
      "You know you're in love when you can't fall asleep because reality is finally better than your dreams.\n",
      "Accept the things to which fate binds you and love the people with whom fate brings you together but do so with all your heart.\n",
      "Intuition is the very force or activity of the soul in its experience through whatever has been the experience of the soul itself.\n",
      "Love is the master key that opens the gates of happiness.\n",
      "The greatest remedy for anger is delay.\n",
      "There is no fear for one whose mind is not filled with desires.\n",
      "Treat people as if they were what they ought to be, and you help them to become what they are capable of being.\n",
      "Better be wise by the misfortunes of others than by your own.\n",
      "If you can't feed a hundred people, then feed just one.\n",
      "Listen to what you know instead of what you fear.\n",
      "It is not enough to have a good mind; the main thing is to use it well.\n",
      "Friendship improves happiness and abates misery, by the doubling of our joy and the dividing of our grief.\n",
      "The greatest good you can do for another is not just share your riches but reveal to them their own.\n",
      "The truest greatness lies in being kind, the truest wisdom in a happy mind.\n",
      "You are always free to change your mind and choose a different future, or a different past.\n",
      "I'd rather regret the things that I have done than the things that I have not done.\n",
      "Keep your eyes on the stars and your feet on the ground.\n",
      "Your sacred space is where you can find yourself again and again.\n",
      "I can't listen to that much Wagner. I start getting the urge to conquer Poland.\n",
      "Difficulties are things that show a person what they are.\n",
      "Happiness is not in the mere possession of money; it lies in the joy of achievement, in the thrill of creative effort.\n",
      "A friend is one who knows you and loves you just the same.\n",
      "Three things cannot be long hidden: the sun, the moon, and the truth.\n",
      "We don't receive wisdom; we must discover it for ourselves after a journey that no one can take for us or spare us.\n",
      "And I love that even in the toughest moments, when we're all sweating it - when we're worried that the bill won't pass, and it seems like all is lost - Barack never lets himself get distracted by the chatter and the noise. Just like his grandmother, he just keeps getting up and moving forward... with patience and wisdom, and courage and grace.\n",
      "Excellence is to do a common thing in an uncommon way.\n",
      "The only way to make sense out of change is to plunge into it, move with it, and join the dance.\n",
      "The one thing that you have that nobody else has is you. Your voice, your mind, your story, your vision. So write and draw and build and play and dance and live as only you can.\n",
      "Always bear in mind that your own resolution to succeed is more important than any other.\n",
      "I'm not in this world to live up to your expectations and you're not in this world to live up to mine.\n",
      "Peace begins with a smile.\n",
      "Love is like a friendship caught on fire. In the beginning a flame, very pretty, often hot and fierce, but still only light and flickering. As love grows older, our hearts mature and our love becomes as coals, deep-burning and unquenchable.\n",
      "The key is to keep company only with people who uplift you, whose presence calls forth your best.\n",
      "The more you like yourself, the less you are like anyone else, which makes you unique.\n",
      "But the attitude of faith is to let go, and become open to truth, whatever it might turn out to be.\n",
      "The world is round and the place which may seem like the end may also be the beginning.\n",
      "basic_loop_request took 15.77 sec\n"
     ]
    }
   ],
   "source": [
    "import requests\n",
    "\n",
    "\n",
    "def basic_request(url: str):\n",
    "    response = requests.get(url)\n",
    "    response_json = response.json()\n",
    "    print(response_json[\"content\"])\n",
    "\n",
    "\n",
    "@print_timing\n",
    "def basic_loop_request(url: str):\n",
    "    # Query 50 times the API\n",
    "    for _ in range(50):\n",
    "        basic_request(url)\n",
    "\n",
    "\n",
    "basic_loop_request(api_url)"
   ]
  },
  {
   "cell_type": "markdown",
   "metadata": {},
   "source": [
    "### Results\n",
    "\n",
    "On my machine it took **17.06 sec for 50 requests**. \n",
    "\n",
    "Pretty slow right? But why is that?\n",
    "\n",
    "Each time you make a request, your computer needs to create a new \"session\", format your request, send it and wait to receive the response before doing it again with the next request."
   ]
  },
  {
   "cell_type": "markdown",
   "metadata": {},
   "source": [
    "## The \"session\" way\n",
    "\n",
    "To speed this, we can use a **\"session\"** that will be share by all the requests.\n",
    "\n",
    "You can picture it as a postman that knows you already, so he knows which bell to ring, where is the mailbox,... Instead of having to search for those each time."
   ]
  },
  {
   "cell_type": "code",
   "execution_count": 4,
   "metadata": {},
   "outputs": [
    {
     "name": "stdout",
     "output_type": "stream",
     "text": [
      "Life is what you make of it. Always has been, always will be.\n",
      "Injuries may be forgiven, but not forgotten.\n",
      "Constant kindness can accomplish much. As the sun makes ice melt, kindness causes misunderstanding, mistrust, and hostility to evaporate.\n",
      "The minute you settle for less than you deserve, you get even less than you settled for.\n",
      "Let us always meet each other with smile, for the smile is the beginning of love.\n",
      "I never considered a difference of opinion in politics, in religion, in philosophy, as cause for withdrawing from a friend.\n",
      "When an opponent comes forward, move in and greet him; if he wants to pull back, send him on his way.\n",
      "My religion consists of a humble admiration of the illimitable superior spirit who reveals himself in the slight details we are able to perceive with our frail and feeble mind.\n",
      "I think that we have a great opportunity to impart our wisdom and our knowledge and our experience to this younger generation. It may be different times, but experience transcends time, and wisdom transcends time.\n",
      "Positive thinking will let you do everything better than negative thinking will.\n",
      "The art challenges the technology, and the technology inspires the art.\n",
      "Nothing but heaven itself is better than a friend who is really a friend.\n",
      "Of course there is no formula for success except perhaps an unconditional acceptance of life and what it brings.\n",
      "When I was 40, my doctor advised me that a man in his 40s shouldn't play tennis. I heeded his advice carefully and could hardly wait until I reached 50 to start again.\n",
      "How is it possible to find meaning in a finite world, given my waist and shirt size?\n",
      "Speak low, if you speak love.\n",
      "I am not bothered by the fact that I am unknown. I am bothered when I do not know others.\n",
      "Reality does not conform to the ideal but confirms it.\n",
      "Wishing to be friends is quick work, but friendship is a slow ripening fruit.\n",
      "With every experience, you alone are painting your own canvas, thought by thought, choice by choice.\n",
      "He who can curb his wrath as soon as it arises, as a timely antidote will check snake's venom that so quickly spreads, — such a monk gives up the here and the beyond, just as a serpent sheds its worn-out skin.\n",
      "The bird of paradise alights only upon the hand that does not grasp.\n",
      "The self is not something ready-made, but something in continuous formation through choice of action.\n",
      "The least movement is of importance to all nature. The entire ocean is affected by a pebble.\n",
      "You may say I'm a dreamer, but I'm not the only one, I hope someday you will join us, and the world will live as one.\n",
      "Whenever you find yourself on the side of the majority, it is time to pause and reflect.\n",
      "Wisdom is always an overmatch for strength.\n",
      "I do not believe in a fate that falls on men however they act; but I do believe in a fate that falls on them unless they act.\n",
      "Aerodynamically the bumblebee shouldn't be able to fly, but the bumblebee doesn't know that, so it goes on flying anyway.\n",
      "He that respects himself is safe from others; he wears a coat of mail that none can pierce.\n",
      "To go against the dominant thinking of your friends, of most of the people you see every day, is perhaps the most difficult act of heroism you can perform.\n",
      "Trust your hunches. They're usually based on facts filed away just below the conscious level.\n",
      "Change will not come if we wait for some other person or some other time. We are the ones we've been waiting for. We are the change that we seek.\n",
      "We are not animals. We are not a product of what has happened to us in our past. We have the power of choice.\n",
      "To be happy is to be able to become aware of oneself without fright.\n",
      "Never explain - your friends do not need it and your enemies will not believe you anyway.\n",
      "He who lives in harmony with himself lives in harmony with the world.\n",
      "To be beautiful means to be yourself. You don't need to be accepted by others. You need to accept yourself.\n",
      "There is nothing impossible to him who will try.\n",
      "The only limit to your impact is your imagination and commitment.\n",
      "The winner ain't the one with the fastest car it's the one who refuses to lose.\n",
      "Nothing in life is to be feared, it is only to be understood. Now is the time to understand more, so that we may fear less.\n",
      "The world turns aside to let any man pass who knows where he is going.\n",
      "Absence makes the heart grow fonder.\n",
      "He that never changes his opinions, never corrects his mistakes, and will never be wiser on the morrow than he is today.\n",
      "I destroy my enemies when I make them my friends.\n",
      "Remember that a gesture of friendship, no matter how small, is always appreciated.\n",
      "Happiness resides not in possessions, and not in gold, happiness dwells in the soul.\n",
      "Love is the attempt to form a friendship inspired by beauty.\n",
      "True wisdom is less presuming than folly. The wise man doubteth often, and changeth his mind; the fool is obstinate, and doubteth not; he knoweth all things but his own ignorance.\n",
      "session_loop_request took 5.87 sec\n"
     ]
    }
   ],
   "source": [
    "from requests import Session\n",
    "\n",
    "\n",
    "def session_request(url: str, session: Session):\n",
    "    # Instead of using request.get, we use our session\n",
    "    response = session.get(url)\n",
    "    response_json = response.json()\n",
    "    print(response_json[\"content\"])\n",
    "\n",
    "\n",
    "@print_timing\n",
    "def session_loop_request(url: str):\n",
    "    # Create shared session for all of your requests\n",
    "    with Session() as session:\n",
    "        # Query 50 times the API\n",
    "        for _ in range(50):\n",
    "            session_request(url, session)\n",
    "\n",
    "\n",
    "session_loop_request(api_url)"
   ]
  },
  {
   "cell_type": "markdown",
   "metadata": {},
   "source": [
    "### Results\n",
    "\n",
    "It took me **5.99 sec for 50 requests**. That's better!\n",
    "\n",
    "And as you can see, I didn't change that much in the code."
   ]
  },
  {
   "cell_type": "markdown",
   "metadata": {},
   "source": [
    "## The \"Async\" way\n",
    "\n",
    "If you need even more performances, you will need to use [AsyncIo](https://docs.python.org/3/library/asyncio.html).\n",
    "\n",
    "This is a library to allow you to run asynchronous code.\n",
    "\n",
    "Why is that more efficiant? Well, when you send a request you need to wait for the response. And during the waiting time, our computer does nothing.\n",
    "If you count all the time the computer is just \"waiting\" on 50 or more requests, you will be surprised to see that most of the computing time is just waiting for the server to respond.\n",
    "\n",
    "[AsyncIo](https://docs.python.org/3/library/asyncio.html) allow you to bypass that.\n",
    "\n",
    "But as always, it has a cost: complexity.\n",
    "\n",
    "Making your code async will complixify the code a lot and make the debugging not a pleasant experience. Also, you will go so fast that you could be banned by the server.\n",
    "\n",
    "My advice? Use it only if you need it.\n",
    "\n",
    "I will show you a simple example but you want to understand it better, I really advice you **[this video](https://www.youtube.com/watch?v=qAh5dDODJ5k)**!\n",
    "\n",
    "### Requirements\n",
    "In order to simplify a bit the code, I will use [httpx](https://www.python-httpx.org/) a python library that is working the same way as the `requests` module but with few helpers for async."
   ]
  },
  {
   "cell_type": "code",
   "execution_count": 5,
   "metadata": {},
   "outputs": [
    {
     "name": "stdout",
     "output_type": "stream",
     "text": [
      "Requirement already satisfied: httpx in c:\\users\\antoi\\appdata\\local\\programs\\python\\python312\\lib\\site-packages (0.27.0)\n",
      "Requirement already satisfied: anyio in c:\\users\\antoi\\appdata\\local\\programs\\python\\python312\\lib\\site-packages (from httpx) (4.4.0)\n",
      "Requirement already satisfied: certifi in c:\\users\\antoi\\appdata\\local\\programs\\python\\python312\\lib\\site-packages (from httpx) (2024.6.2)\n",
      "Requirement already satisfied: httpcore==1.* in c:\\users\\antoi\\appdata\\local\\programs\\python\\python312\\lib\\site-packages (from httpx) (1.0.5)\n",
      "Requirement already satisfied: idna in c:\\users\\antoi\\appdata\\local\\programs\\python\\python312\\lib\\site-packages (from httpx) (3.7)\n",
      "Requirement already satisfied: sniffio in c:\\users\\antoi\\appdata\\local\\programs\\python\\python312\\lib\\site-packages (from httpx) (1.3.1)\n",
      "Requirement already satisfied: h11<0.15,>=0.13 in c:\\users\\antoi\\appdata\\local\\programs\\python\\python312\\lib\\site-packages (from httpcore==1.*->httpx) (0.14.0)\n"
     ]
    }
   ],
   "source": [
    "!pip install httpx"
   ]
  },
  {
   "cell_type": "markdown",
   "metadata": {},
   "source": [
    "### Warning!\n",
    "This code won't work in jupyter notebook, there are subtilities for async in jupyter notebook. See [this thread](https://stackoverflow.com/questions/47518874/how-do-i-run-python-asyncio-code-in-a-jupyter-notebook) for more informations.\n",
    "\n",
    "To make it simpler, I will put this code in a .py file and run it in command line:"
   ]
  },
  {
   "cell_type": "markdown",
   "metadata": {},
   "source": [
    "```python\n",
    "from httpx import AsyncClient\n",
    "import asyncio\n",
    "import time\n",
    "\n",
    "\n",
    "api_url = \"https://api.quotable.io/random\"\n",
    "\n",
    "\n",
    "async def session_request_async(url: str, session: AsyncClient):\n",
    "    # Instead of using request.get, we use our session\n",
    "    response = await session.get(url)\n",
    "    response_json = response.json()\n",
    "    print(response_json[\"content\"])\n",
    "    return response_json\n",
    "\n",
    "\n",
    "async def session_loop_request_async(url: str):\n",
    "    # Create shared session for all of your requests\n",
    "    async with AsyncClient() as session:\n",
    "        # Create a list of empty tasks\n",
    "        tasks = []\n",
    "        # Query 50 times the API\n",
    "        for _ in range(50):\n",
    "            # Add a request to tasks\n",
    "            tasks.append(\n",
    "                asyncio.create_task(\n",
    "                    session_request_async(url, session)        \n",
    "                )\n",
    "            )\n",
    "        # Now that all the tasks are registred, run them\n",
    "        responses = await asyncio.gather(*tasks)\n",
    "            \n",
    "            \n",
    "\n",
    "\n",
    "start = time.perf_counter()\n",
    "\n",
    "# We need to use asyncio.run to run the async function\n",
    "asyncio.run(session_loop_request_async(api_url))\n",
    "\n",
    "end = time.perf_counter()\n",
    "execution_time = round((end - start), 2)\n",
    "print(f'session_loop_request_async took {execution_time} sec')\n",
    "```"
   ]
  },
  {
   "cell_type": "code",
   "execution_count": 6,
   "metadata": {},
   "outputs": [
    {
     "name": "stderr",
     "output_type": "stream",
     "text": [
      "Python was not found; run without arguments to install from the Microsoft Store, or disable this shortcut from Settings > Manage App Execution Aliases.\n"
     ]
    }
   ],
   "source": [
    "!python3 ./assets/async_requests.py"
   ]
  },
  {
   "cell_type": "markdown",
   "metadata": {},
   "source": [
    "### Results\n",
    "It only took me **0.8 sec for 50 requests**! That's impressive.\n",
    "\n",
    "But as you can see, it is harder to write, structure and debug. So make sure you **really** need it if you consider using this method."
   ]
  },
  {
   "cell_type": "markdown",
   "metadata": {},
   "source": [
    "## Summary\n",
    "\n",
    "If we gather all our results:\n",
    "\n",
    "| Method                     | Execution time for 50 requests |\n",
    "|----------------------------|--------------------------------|\n",
    "| `requests.get` loop        | 17.06 sec                  |\n",
    "| `requests` with `Session`  | 5.99 sec                   |\n",
    "| `httpx` with `AsyncClient` | 0.8 sec                   |"
   ]
  },
  {
   "cell_type": "markdown",
   "metadata": {},
   "source": []
  }
 ],
 "metadata": {
  "kernelspec": {
   "display_name": "Python 3.10.5 64-bit",
   "language": "python",
   "name": "python3"
  },
  "language_info": {
   "codemirror_mode": {
    "name": "ipython",
    "version": 3
   },
   "file_extension": ".py",
   "mimetype": "text/x-python",
   "name": "python",
   "nbconvert_exporter": "python",
   "pygments_lexer": "ipython3",
   "version": "3.12.3"
  },
  "orig_nbformat": 4,
  "vscode": {
   "interpreter": {
    "hash": "b460384b52104c1e5b9cf54bee46a255d22b2bef338f75ac4ad5d48196028d3c"
   }
  }
 },
 "nbformat": 4,
 "nbformat_minor": 2
}
