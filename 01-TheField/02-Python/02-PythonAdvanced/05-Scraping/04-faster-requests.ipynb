{
 "cells": [
  {
   "cell_type": "markdown",
   "metadata": {},
   "source": [
    "# Make your requests faster\n",
    "\n",
    "When you start scraping web-pages or requesting APIs, you will be facing a problem when doing a lot of requests: this is really slow!\n",
    "\n",
    "It's because python is slow! You could say, well it should not be. Let's see how we can speed things up!\n",
    "\n",
    "## Measure performances\n",
    "\n",
    "In this notebook we will need to track how much time some code is taking to execute.\n",
    "To make things easier, we will create a simple decorator that will print the number of micro-seconds a function takes to execute.\n",
    "\n",
    "A good opportonity to practice decorators in a practical example!\n",
    "\n",
    "*Note that you need python3.3 or higher.*"
   ]
  },
  {
   "cell_type": "code",
   "execution_count": 3,
   "metadata": {},
   "outputs": [
    {
     "name": "stdout",
     "output_type": "stream",
     "text": [
      "example took 2.0 sec\n"
     ]
    }
   ],
   "source": [
    "import time\n",
    "\n",
    "def print_timing(func):\n",
    "    '''Create a timing decorator function use @print_timing just above the function you want to time.'''\n",
    "\n",
    "    def wrapper(*arg):\n",
    "        start = time.perf_counter()\n",
    "        \n",
    "        # Run the function decorated\n",
    "        result = func(*arg)\n",
    "\n",
    "        end = time.perf_counter()\n",
    "        execution_time = round((end - start), 2)\n",
    "        print(f'{func.__name__} took {execution_time} sec')\n",
    "        return result\n",
    "\n",
    "    return wrapper\n",
    "\n",
    "\n",
    "@print_timing\n",
    "def example():\n",
    "    time.sleep(2)\n",
    "\n",
    "\n",
    "example()"
   ]
  },
  {
   "cell_type": "markdown",
   "metadata": {},
   "source": [
    "## The API\n",
    "\n",
    "For this example, we will use the [quotable.io](https://api.quotable.io) API. It's an online API you can use to generate random quote.\n",
    "\n",
    "But feel free to replace `api_url` value with any API you'd like."
   ]
  },
  {
   "cell_type": "code",
   "execution_count": 1,
   "metadata": {},
   "outputs": [],
   "source": [
    "api_url = \"https://api.quotable.io/random\""
   ]
  },
  {
   "cell_type": "markdown",
   "metadata": {},
   "source": [
    "## The \"classic\" way\n",
    "\n",
    "If you start playing with requests, your should probably have something like this:"
   ]
  },
  {
   "cell_type": "code",
   "execution_count": 4,
   "metadata": {},
   "outputs": [
    {
     "name": "stdout",
     "output_type": "stream",
     "text": [
      "It is only when the mind and character slumber that the dress can be seen.\n",
      "Never promise more than you can perform.\n",
      "In dwelling, live close to the ground. In thinking, keep to the simple. In conflict, be fair and generous. In governing, don't try to control. In work, do what you enjoy. In family life, be completely present.\n",
      "The superior man is modest in his speech but exceeds in his actions.\n",
      "Speak when you are angry, and you will make the best speech you will ever regret.\n",
      "Great acts are made up of small deeds.\n",
      "It is one of the blessings of old friends that you can afford to be stupid with them.\n",
      "Your friends will know you better in the first minute you meet than your acquaintances will know you in a thousand years.\n",
      "Life is a progress, and not a station.\n",
      "If you have made mistakes, there is always another chance for you. You may have a fresh start any moment you choose.\n",
      "Two persons cannot long be friends if they cannot forgive each other's little failings.\n",
      "You don't play against opponents, you play against the game of basketball.\n",
      "While we stop to think, we often miss our opportunity.\n",
      "Believe in yourself! Have faith in your abilities! Without a humble but reasonable confidence in your own powers you cannot be successful or happy.\n",
      "Don't compromise yourself. You are all you've got.\n",
      "The best thing about the future is that it only comes one day at a time.\n",
      "Ever tried. Ever failed. No matter. Try Again. Fail again. Fail better.\n",
      "Irony is the gaiety of reflection and the joy of wisdom.\n",
      "The young man knows the rules, but the old man knows the exceptions.\n",
      "Knowledge is going to make you stronger. Knowledge is going to let you control your life. Knowledge is going to give you the wisdom to teach their children. Knowledge is the thing that makes you smile in the face of disaster.\n",
      "Happiness is not something ready-made. It comes from your own actions.\n",
      "An organization's ability to learn, and translate that learning into action rapidly, is the ultimate competitive advantage.\n",
      "When your desires are strong enough you will appear to possess superhuman powers to achieve.\n",
      "Action may not always bring happiness; but there is no happiness without action.\n",
      "Golf is a game in which one endeavors to control a ball with implements ill adapted for the purpose.\n",
      "Whenever you find yourself on the side of the majority, it is time to pause and reflect.\n",
      "Notice that the stiffest tree is most easily cracked, while the bamboo or willow survives by bending with the wind.\n",
      "Twenty years from now you will be more disappointed by the things that you didn't do than by the ones you did do.\n",
      "Yesterday is history. Tomorrow is a mystery. And today? Today is a gift. That is why we call it the present.\n",
      "What we see depends mainly on what we look for.\n",
      "Sometimes I am happy and sometimes not. I am, after all, a human being, you know. And I am glad that we are sometimes happy and sometimes not. You get your wisdom working by having different emotions.\n",
      "What the caterpillar calls the end of the world, the master calls a butterfly.\n",
      "The lure of the distant and the difficult is deceptive. The great opportunity is where you are.\n",
      "Small opportunities are often the beginning of great enterprises.\n",
      "All achievements, all earned riches, have their beginning in an idea.\n",
      "I have often regretted my speech, never my silence.\n",
      "He has no enemies, but is intensely disliked by his friends.\n",
      "The most difficult thing is the decision to act, the rest is merely tenacity. The fears are paper tigers. You can do anything you decide to do. You can act to change and control your life; and the procedure, the process is its own reward.\n",
      "I allow my intuition to lead my path.\n",
      "Formula for success: under promise and over deliver.\n",
      "Most people are about as happy as they make up their minds to be\n",
      "A wise man will make more opportunities than he finds.\n",
      "Do the one thing you think you cannot do. Fail at it. Try again. Do better the second time. The only people who never tumble are those who never mount the high wire. This is your moment. Own it.\n",
      "To do all that one is able to do, is to be a man; to do all that one would like to do, is to be a god.\n",
      "The deepest craving of human nature is the need to be appreciated.\n",
      "There is no way to prosperity, prosperity is the way.\n",
      "Blessed is the man who expects nothing, for he shall never be disappointed.\n",
      "But I'll tell you what hermits realize. If you go off into a far, far forest and get very quiet, you'll come to understand that you're connected with everything.\n",
      "There is no retirement for an artist, it's your way of living so there is no end to it.\n",
      "Respect should be earned by actions, and not acquired by years.\n",
      "basic_loop_request took 18.71 sec\n"
     ]
    }
   ],
   "source": [
    "import requests\n",
    "\n",
    "\n",
    "def basic_request(url: str):\n",
    "    response = requests.get(url)\n",
    "    response_json = response.json()\n",
    "    print(response_json[\"content\"])\n",
    "\n",
    "\n",
    "@print_timing\n",
    "def basic_loop_request(url: str):\n",
    "    # Query 50 times the API\n",
    "    for _ in range(50):\n",
    "        basic_request(url)\n",
    "\n",
    "\n",
    "basic_loop_request(api_url)"
   ]
  },
  {
   "cell_type": "markdown",
   "metadata": {},
   "source": [
    "### Results\n",
    "\n",
    "On my machine it took **17.06 sec for 50 requests**. \n",
    "\n",
    "Pretty slow right? But why is that?\n",
    "\n",
    "Each time you make a request, your computer needs to create a new \"session\", format your request, send it and wait to receive the response before doing it again with the next request."
   ]
  },
  {
   "cell_type": "markdown",
   "metadata": {},
   "source": [
    "## The \"session\" way\n",
    "\n",
    "To speed this, we can use a **\"session\"** that will be share by all the requests.\n",
    "\n",
    "You can picture it as a postman that knows you already, so he knows which bell to ring, where is the mailbox,... Instead of having to search for those each time."
   ]
  },
  {
   "cell_type": "code",
   "execution_count": 5,
   "metadata": {},
   "outputs": [
    {
     "name": "stdout",
     "output_type": "stream",
     "text": [
      "Discovery consists of seeing what everybody has seen and thinking what nobody else has thought.\n",
      "Before God we are all equally wise - and equally foolish.\n",
      "Much wisdom often goes with fewer words.\n",
      "Friendship is one of our most treasured relationships, but it isn't codified and celebrated; it's never going to give you a party.\n",
      "You should ignore that person’s impure behavior by way of speech and body, and focus on the fact that they get an openness and clarity of heart from time to time. That’s how to get rid of resentment for that person.\n",
      "Happiness is not in the mere possession of money; it lies in the joy of achievement, in the thrill of creative effort.\n",
      "Be miserable. Or motivate yourself. Whatever has to be done, it's always your choice.\n",
      "When you judge another, you do not define them, you define yourself.\n",
      "Action is eloquence.\n",
      "With pride, there are many curses. With humility, there come many blessings.\n",
      "Speak only endearing speech, speech that is welcomed. Speech, when it brings no evil to others, is a pleasant thing.\n",
      "Always keep your mind as bright and clear as the vast sky, the great ocean, and the highest peak, empty of all thoughts. Always keep your body filled with light and heat. Fill yourself with the power of wisdom and enlightenment.\n",
      "Even youngish men can acquire wisdom as time goes by.\n",
      "Nobody will believe in you unless you believe in yourself.\n",
      "Never bend your head. Always hold it high. Look the world right in the eye.\n",
      "When times are bad is when the real entrepreneurs emerge.\n",
      "He who is contented is rich.\n",
      "Whatever we expect with confidence becomes our own self-fulfilling prophecy.\n",
      "We are all something, but none of us are everything.\n",
      "Make it your habit not to be critical about small things.\n",
      "A man cannot be said to succeed in this life who does not satisfy one friend.\n",
      "Your vision will become clear only when you can look into your own heart. Who looks outside, dreams, who looks inside, awakes.\n",
      "Nothing will work unless you do.\n",
      "You can't choose up sides on a round world.\n",
      "I have learned that friendship isn't about who you've known the longest, it's about who came and never left your side.\n",
      "Whoso loves, believes the impossible.\n",
      "Living at risk is jumping off the cliff and building your wings on the way down.\n",
      "The smallest act of kindness is worth more than the grandest intention.\n",
      "Read as you taste fruit or savor wine, or enjoy friendship, love or life.\n",
      "Experience is simply the name we give our mistakes.\n",
      "However rare true love may be, it is less so than true friendship.\n",
      "He that respects himself is safe from others; he wears a coat of mail that none can pierce.\n",
      "When we feel love and kindness toward others, it not only makes others feel loved and cared for, but it helps us also to develop inner happiness and peace.\n",
      "If you want things to be different, perhaps the answer is to become different yourself.\n",
      "The most certain sign of wisdom is cheerfulness.\n",
      "Science and technology revolutionize our lives, but memory, tradition and myth frame our response.\n",
      "Friendship is essentially a partnership.\n",
      "The young man knows the rules, but the old man knows the exceptions.\n",
      "The opportunity for brotherhood presents itself every time you meet a human being.\n",
      "It is never too late to be what you might have been.\n",
      "The only way to have a friend is to be one.\n",
      "God always takes the simplest way.\n",
      "So much technology, so little talent.\n",
      "Mistakes are always forgivable, if one has the courage to admit them.\n",
      "Technology made large populations possible; large populations now make technology indispensable.\n",
      "We all grow up. Hopefully, we get wiser. Age brings wisdom, and fatherhood changes one's life completely.\n",
      "Never apologize for showing feelings. When you do so, you apologize for the truth.\n",
      "Constant kindness can accomplish much. As the sun makes ice melt, kindness causes misunderstanding, mistrust, and hostility to evaporate.\n",
      "Success is not the key to happiness. Happiness is the key to success. If you love what you are doing, you will be successful.\n",
      "We respect our elders. There is wisdom that comes from experience, and I am not going to stop learning from wise counsel.\n",
      "session_loop_request took 6.58 sec\n"
     ]
    }
   ],
   "source": [
    "from requests import Session\n",
    "\n",
    "\n",
    "def session_request(url: str, session: Session):\n",
    "    # Instead of using request.get, we use our session\n",
    "    response = session.get(url)\n",
    "    response_json = response.json()\n",
    "    print(response_json[\"content\"])\n",
    "\n",
    "\n",
    "@print_timing\n",
    "def session_loop_request(url: str):\n",
    "    # Create shared session for all of your requests\n",
    "    with Session() as session:\n",
    "        # Query 50 times the API\n",
    "        for _ in range(50):\n",
    "            session_request(url, session)\n",
    "\n",
    "\n",
    "session_loop_request(api_url)"
   ]
  },
  {
   "cell_type": "markdown",
   "metadata": {},
   "source": [
    "### Results\n",
    "\n",
    "It took me **5.99 sec for 50 requests**. That's better!\n",
    "\n",
    "And as you can see, I didn't change that much in the code."
   ]
  },
  {
   "cell_type": "markdown",
   "metadata": {},
   "source": [
    "## The \"Async\" way\n",
    "\n",
    "If you need even more performances, you will need to use [AsyncIo](https://docs.python.org/3/library/asyncio.html).\n",
    "\n",
    "This is a library to allow you to run asynchronous code.\n",
    "\n",
    "Why is that more efficiant? Well, when you send a request you need to wait for the response. And during the waiting time, our computer does nothing.\n",
    "If you count all the time the computer is just \"waiting\" on 50 or more requests, you will be surprised to see that most of the computing time is just waiting for the server to respond.\n",
    "\n",
    "[AsyncIo](https://docs.python.org/3/library/asyncio.html) allow you to bypass that.\n",
    "\n",
    "But as always, it has a cost: complexity.\n",
    "\n",
    "Making your code async will complixify the code a lot and make the debugging not a pleasant experience. Also, you will go so fast that you could be banned by the server.\n",
    "\n",
    "My advice? Use it only if you need it.\n",
    "\n",
    "I will show you a simple example but you want to understand it better, I really advice you **[this video](https://www.youtube.com/watch?v=qAh5dDODJ5k)**!\n",
    "\n",
    "### Requirements\n",
    "In order to simplify a bit the code, I will use [httpx](https://www.python-httpx.org/) a python library that is working the same way as the `requests` module but with few helpers for async."
   ]
  },
  {
   "cell_type": "code",
   "execution_count": 6,
   "metadata": {},
   "outputs": [
    {
     "name": "stdout",
     "output_type": "stream",
     "text": [
      "Collecting httpx\n",
      "  Downloading httpx-0.27.0-py3-none-any.whl.metadata (7.2 kB)\n",
      "Collecting anyio (from httpx)\n",
      "  Downloading anyio-4.4.0-py3-none-any.whl.metadata (4.6 kB)\n",
      "Requirement already satisfied: certifi in c:\\users\\antoi\\appdata\\local\\programs\\python\\python312\\lib\\site-packages (from httpx) (2024.6.2)\n",
      "Collecting httpcore==1.* (from httpx)\n",
      "  Downloading httpcore-1.0.5-py3-none-any.whl.metadata (20 kB)\n",
      "Requirement already satisfied: idna in c:\\users\\antoi\\appdata\\local\\programs\\python\\python312\\lib\\site-packages (from httpx) (3.7)\n",
      "Collecting sniffio (from httpx)\n",
      "  Downloading sniffio-1.3.1-py3-none-any.whl.metadata (3.9 kB)\n",
      "Collecting h11<0.15,>=0.13 (from httpcore==1.*->httpx)\n",
      "  Downloading h11-0.14.0-py3-none-any.whl.metadata (8.2 kB)\n",
      "Downloading httpx-0.27.0-py3-none-any.whl (75 kB)\n",
      "   ---------------------------------------- 0.0/75.6 kB ? eta -:--:--\n",
      "   ---------------------------------------- 75.6/75.6 kB 2.1 MB/s eta 0:00:00\n",
      "Downloading httpcore-1.0.5-py3-none-any.whl (77 kB)\n",
      "   ---------------------------------------- 0.0/77.9 kB ? eta -:--:--\n",
      "   ---------------------------------------- 77.9/77.9 kB 4.2 MB/s eta 0:00:00\n",
      "Downloading anyio-4.4.0-py3-none-any.whl (86 kB)\n",
      "   ---------------------------------------- 0.0/86.8 kB ? eta -:--:--\n",
      "   ---------------------------------------- 86.8/86.8 kB 4.8 MB/s eta 0:00:00\n",
      "Downloading sniffio-1.3.1-py3-none-any.whl (10 kB)\n",
      "Downloading h11-0.14.0-py3-none-any.whl (58 kB)\n",
      "   ---------------------------------------- 0.0/58.3 kB ? eta -:--:--\n",
      "   ---------------------------------------- 58.3/58.3 kB ? eta 0:00:00\n",
      "Installing collected packages: sniffio, h11, httpcore, anyio, httpx\n",
      "Successfully installed anyio-4.4.0 h11-0.14.0 httpcore-1.0.5 httpx-0.27.0 sniffio-1.3.1\n"
     ]
    }
   ],
   "source": [
    "!pip install httpx"
   ]
  },
  {
   "cell_type": "markdown",
   "metadata": {},
   "source": [
    "### Warning!\n",
    "This code won't work in jupyter notebook, there are subtilities for async in jupyter notebook. See [this thread](https://stackoverflow.com/questions/47518874/how-do-i-run-python-asyncio-code-in-a-jupyter-notebook) for more informations.\n",
    "\n",
    "To make it simpler, I will put this code in a .py file and run it in command line:"
   ]
  },
  {
   "cell_type": "markdown",
   "metadata": {},
   "source": [
    "```python\n",
    "from httpx import AsyncClient\n",
    "import asyncio\n",
    "import time\n",
    "\n",
    "\n",
    "api_url = \"https://api.quotable.io/random\"\n",
    "\n",
    "\n",
    "async def session_request_async(url: str, session: AsyncClient):\n",
    "    # Instead of using request.get, we use our session\n",
    "    response = await session.get(url)\n",
    "    response_json = response.json()\n",
    "    print(response_json[\"content\"])\n",
    "    return response_json\n",
    "\n",
    "\n",
    "async def session_loop_request_async(url: str):\n",
    "    # Create shared session for all of your requests\n",
    "    async with AsyncClient() as session:\n",
    "        # Create a list of empty tasks\n",
    "        tasks = []\n",
    "        # Query 50 times the API\n",
    "        for _ in range(50):\n",
    "            # Add a request to tasks\n",
    "            tasks.append(\n",
    "                asyncio.create_task(\n",
    "                    session_request_async(url, session)        \n",
    "                )\n",
    "            )\n",
    "        # Now that all the tasks are registred, run them\n",
    "        responses = await asyncio.gather(*tasks)\n",
    "            \n",
    "            \n",
    "\n",
    "\n",
    "start = time.perf_counter()\n",
    "\n",
    "# We need to use asyncio.run to run the async function\n",
    "asyncio.run(session_loop_request_async(api_url))\n",
    "\n",
    "end = time.perf_counter()\n",
    "execution_time = round((end - start), 2)\n",
    "print(f'session_loop_request_async took {execution_time} sec')\n",
    "```"
   ]
  },
  {
   "cell_type": "code",
   "execution_count": 7,
   "metadata": {},
   "outputs": [
    {
     "name": "stderr",
     "output_type": "stream",
     "text": [
      "Python was not found; run without arguments to install from the Microsoft Store, or disable this shortcut from Settings > Manage App Execution Aliases.\n"
     ]
    }
   ],
   "source": [
    "!python3 ./assets/async_requests.py"
   ]
  },
  {
   "cell_type": "markdown",
   "metadata": {},
   "source": [
    "### Results\n",
    "It only took me **0.8 sec for 50 requests**! That's impressive.\n",
    "\n",
    "But as you can see, it is harder to write, structure and debug. So make sure you **really** need it if you consider using this method."
   ]
  },
  {
   "cell_type": "markdown",
   "metadata": {},
   "source": [
    "## Summary\n",
    "\n",
    "If we gather all our results:\n",
    "\n",
    "| Method                     | Execution time for 50 requests |\n",
    "|----------------------------|--------------------------------|\n",
    "| `requests.get` loop        | 17.06 sec                  |\n",
    "| `requests` with `Session`  | 5.99 sec                   |\n",
    "| `httpx` with `AsyncClient` | 0.8 sec                   |"
   ]
  },
  {
   "cell_type": "markdown",
   "metadata": {},
   "source": []
  }
 ],
 "metadata": {
  "kernelspec": {
   "display_name": "Python 3.10.5 64-bit",
   "language": "python",
   "name": "python3"
  },
  "language_info": {
   "codemirror_mode": {
    "name": "ipython",
    "version": 3
   },
   "file_extension": ".py",
   "mimetype": "text/x-python",
   "name": "python",
   "nbconvert_exporter": "python",
   "pygments_lexer": "ipython3",
   "version": "3.12.3"
  },
  "orig_nbformat": 4,
  "vscode": {
   "interpreter": {
    "hash": "b460384b52104c1e5b9cf54bee46a255d22b2bef338f75ac4ad5d48196028d3c"
   }
  }
 },
 "nbformat": 4,
 "nbformat_minor": 2
}
